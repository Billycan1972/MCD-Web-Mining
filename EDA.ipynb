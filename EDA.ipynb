{
 "cells": [
  {
   "cell_type": "code",
   "execution_count": 1,
   "metadata": {},
   "outputs": [],
   "source": [
    "import sqlite3\n",
    "import pandas as pd\n",
    "pd.options.display.max_rows = 999"
   ]
  },
  {
   "cell_type": "code",
   "execution_count": 3,
   "metadata": {},
   "outputs": [
    {
     "data": {
      "text/plain": [
       "(5309, 7)"
      ]
     },
     "execution_count": 3,
     "metadata": {},
     "output_type": "execute_result"
    }
   ],
   "source": [
    "# Consultar datos\n",
    "conn = sqlite3.connect('webmining.db')\n",
    "cursor = conn.cursor()\n",
    "cursor.execute(\"SELECT * FROM datos_anuales\")\n",
    "column_names = [description[0] for description in cursor.description]\n",
    "filas = cursor.fetchall()\n",
    "\n",
    "# Guardar los datos en un dataframe\n",
    "df = pd.DataFrame(filas, columns=column_names)\n",
    "df.shape"
   ]
  },
  {
   "cell_type": "code",
   "execution_count": 4,
   "metadata": {},
   "outputs": [
    {
     "data": {
      "text/plain": [
       "array([2020, 2021, 2022, 2023, 2024], dtype=int64)"
      ]
     },
     "execution_count": 4,
     "metadata": {},
     "output_type": "execute_result"
    }
   ],
   "source": [
    "# ejericicios\n",
    "ejercicios = df['ejercicio'].unique()\n",
    "ejercicios"
   ]
  },
  {
   "cell_type": "code",
   "execution_count": 9,
   "metadata": {},
   "outputs": [
    {
     "data": {
      "text/plain": [
       "array(['apple-computer-inc', 'microsoft-corp', 'google-inc',\n",
       "       'tesla-motors', 'visa-inc', 'berkshire-hathaway-inc',\n",
       "       'johnson-johnson', 'pfizer', 'amazon-com-inc', 'disney', 'nike',\n",
       "       'procter-gamble', 'coca-cola-co', 'chevron', '3m-co'], dtype=object)"
      ]
     },
     "execution_count": 9,
     "metadata": {},
     "output_type": "execute_result"
    }
   ],
   "source": [
    "# Empresas\n",
    "empresas = df['company'].unique()\n",
    "empresas"
   ]
  },
  {
   "cell_type": "code",
   "execution_count": null,
   "metadata": {},
   "outputs": [
    {
     "name": "stdout",
     "output_type": "stream",
     "text": [
      "informe     indicador                                                 \n",
      "balance     Acciones ordinarias y APIC                                    74\n",
      "            Acciones preferentes convertibles                             10\n",
      "            Acciones propias                                              44\n",
      "            Acciones propias y otras                                      74\n",
      "            Activos intangibles                                           69\n",
      "            Activos por impuestos diferidos a largo plazo                 49\n",
      "            Amortización acumulada                                        74\n",
      "            Arrendamientos a largo plazo                                  74\n",
      "            Capital pagado adicional                                      48\n",
      "            Cargos diferidos a largo plazo                                 8\n",
      "            Crecimiento de activos totales                                74\n",
      "            Crecimiento de efectivo y equivalentes                        74\n",
      "            Crecimiento de la deuda total                                 74\n",
      "            Crecimiento del pasivo total                                  74\n",
      "            Créditos totales                                              74\n",
      "            Cuentas por cobrar a largo plazo                              14\n",
      "            Deuda a largo plazo                                           74\n",
      "            Efectivo restringido                                          29\n",
      "            Efectivo y equivalentes                                       74\n",
      "            Fondo de comercio                                             69\n",
      "            Ganancias retenidas                                           74\n",
      "            Gastos pagados por adelantado                                 42\n",
      "            Impuestos corrientes sobre la renta a pagar                   63\n",
      "            Ingresos globales y otros                                     74\n",
      "            Ingresos no devengados no corrientes                          28\n",
      "            Inmovilizado material bruto                                   74\n",
      "            Intereses minoritarios                                        40\n",
      "            Inventario                                                    66\n",
      "            Inversiones a corto plazo                                     63\n",
      "            Inversiones a largo plazo                                     61\n",
      "            Otros activos corrientes                                      66\n",
      "            Otros créditos                                                41\n",
      "            Otros intangibles, total                                      61\n",
      "            Otros pasivos corrientes                                      63\n",
      "            Otros pasivos no corrientes                                   74\n",
      "            Parte actual de arrendamientos                                70\n",
      "            Parte actual de la deuda a largo plazo                        64\n",
      "            Parte actual de la deuda a largo plazo/arrendamientos         74\n",
      "            Pasivos por impuestos no corrientes diferidos                 59\n",
      "            Pensiones y otras prestaciones posteriores a la jubilación    33\n",
      "            Planta, propiedad y equipo, neto                              74\n",
      "            Préstamos a corto plazo                                       53\n",
      "            Préstamos por cobrar a largo plazo                             5\n",
      "            Total de acciones ordinarias                                  71\n",
      "            Total de acciones preferentes                                 10\n",
      "            Total de cuentas por cobrar                                   74\n",
      "            Total de cuentas por pagar                                    74\n",
      "            Total de gastos devengados                                    64\n",
      "            Total de otros activos                                        74\n",
      "            Total de otros activos a largo plazo                          74\n",
      "            Total de otros activos corrientes                             56\n",
      "            Total de otros pasivos                                        74\n",
      "            Total de otros pasivos corrientes                             74\n",
      "            total de ingresos corrientes no devengados                    40\n",
      "resultados  BPA básico: Crecimiento de actividades continuadas            65\n",
      "            BPA básico: crecimiento de actividades continuadas            69\n",
      "            BPA diluido: Actividades continuadas                          69\n",
      "            BPA diluido: Crecimiento de actividades continuadas           65\n",
      "            Beneficio bruto                                               70\n",
      "            Beneficio neto                                                70\n",
      "            Beneficio neto sobre ingresos ordinarios                      70\n",
      "            Beneficios netos para la empresa                              70\n",
      "            Coste de los ingresos                                         70\n",
      "            Crecimiento de gastos netos por intereses                     63\n",
      "            Crecimiento de los ingresos totales                           70\n",
      "            Crecimiento del EBITDA                                        70\n",
      "            Crecimiento del EBT incluidas las partidas inusuales          70\n",
      "            Crecimiento del beneficio bruto                               70\n",
      "            Crecimiento del beneficio neto                                69\n",
      "            Crecimiento del dividendo por acción                          46\n",
      "            Crecimiento del margen neto                                   69\n",
      "            Crecmiento total de otros gastos operativos                    4\n",
      "            Dividendo por acción                                          48\n",
      "            Dividendo preferente y otros ajustes                          15\n",
      "            EBIT                                                          70\n",
      "            EBITDA                                                        70\n",
      "            EBT excepto elementos no habituales                           70\n",
      "            EBT incluyendo las partidas inusuales                         70\n",
      "            Ganancia (pérdida) de la venta de activos                     13\n",
      "            Gastos de I+D                                                  4\n",
      "            Gastos de venta, generales y administrativos                   4\n",
      "            Gastos netos por intereses                                    67\n",
      "            Impuesto sobre la renta                                       70\n",
      "            Ingresos por intereses e inversiones                          56\n",
      "            Ingresos totales                                              70\n",
      "            Intereses minoritarios                                        40\n",
      "            Margen EBIT %                                                 70\n",
      "            Margen EBITDA %                                               70\n",
      "            Margen de beneficio bruto %                                   70\n",
      "            Margen del EBT incluidas las partidas inusuales               70\n",
      "            Margen del beneficio neto %                                   70\n",
      "            Margen neto                                                   70\n",
      "            Promedio ponderado básico de acciones en circulación          54\n",
      "            Promedio ponderado diluido de acciones en circulación         56\n",
      "            Total de gastos de intereses                                  67\n",
      "            Total de otras partidas no habituales                         34\n",
      "            Total de otros gastos no operativos                           70\n",
      "            Total de otros gastos operativos                              65\n",
      "dtype: int64\n"
     ]
    }
   ],
   "source": [
    "indicadores = df.groupby([\"informe\",\"indicador\"]).size()\n",
    "\n",
    "print(indicadores)"
   ]
  },
  {
   "cell_type": "code",
   "execution_count": null,
   "metadata": {},
   "outputs": [],
   "source": []
  }
 ],
 "metadata": {
  "kernelspec": {
   "display_name": "Python 3",
   "language": "python",
   "name": "python3"
  },
  "language_info": {
   "codemirror_mode": {
    "name": "ipython",
    "version": 3
   },
   "file_extension": ".py",
   "mimetype": "text/x-python",
   "name": "python",
   "nbconvert_exporter": "python",
   "pygments_lexer": "ipython3",
   "version": "3.12.6"
  }
 },
 "nbformat": 4,
 "nbformat_minor": 2
}
