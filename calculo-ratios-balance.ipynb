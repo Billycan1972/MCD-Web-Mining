{
 "cells": [
  {
   "cell_type": "code",
   "execution_count": 2,
   "metadata": {},
   "outputs": [],
   "source": [
    "import pandas as pd"
   ]
  },
  {
   "cell_type": "markdown",
   "metadata": {},
   "source": [
    "### Calculo de Ratios\n",
    "\n",
    "#### liquidez\n",
    "* Razón corriente = Activos corrientes / Pasivos corrientes\n",
    "* Prueba ácida = (Activo corriente - Inventarios) / Pasivo corriente\n",
    "\n",
    "#### Solvencia y endeudamiento\n",
    "* Endeudamiento total = Total de pasivos / Total de activos\n",
    "* Endeudamiento de largo plazo = Pasivo no corriente / Total de activos\n",
    "* Cobertura de intereses = EBIT / Gastos por intereses\n",
    "\n",
    "#### Rentabilidad\n",
    "* ROA (Return on Assets) = Beneficio neto / Activo total\n",
    "* ROE (Return on Equity) =  Beneficio neto / Patrimonio neto\n",
    "* Margen de utilidad = \tBeneficio neto / Ventas (ingresos totales) (escrapeado \"Margen del beneficio neto %\")\n",
    "* Rotación de activos = ingresos totales / Total de activos\n",
    "* Rotación de inventarios = ingresos totales / Inventario"
   ]
  },
  {
   "cell_type": "code",
   "execution_count": 1,
   "metadata": {},
   "outputs": [],
   "source": [
    "import sqlite3\n",
    "import pandas as pd\n",
    "pd.options.display.max_rows = 999\n",
    "\n",
    "# Consultar datos\n",
    "conn = sqlite3.connect('webmining.db')\n",
    "cursor = conn.cursor()\n",
    "cursor.execute(\"SELECT * FROM datos_anuales\")\n",
    "column_names = [description[0] for description in cursor.description]\n",
    "filas = cursor.fetchall()\n",
    "\n",
    "# Guardar los datos en un dataframe\n",
    "df = pd.DataFrame(filas, columns=column_names)"
   ]
  },
  {
   "cell_type": "code",
   "execution_count": 2,
   "metadata": {},
   "outputs": [
    {
     "name": "stdout",
     "output_type": "stream",
     "text": [
      "informe     seccion            indicador                                                 \n",
      "balance     activo_corriente   Crecimiento de efectivo y equivalentes                        69\n",
      "                               Créditos totales                                              69\n",
      "                               Efectivo restringido                                          28\n",
      "                               Efectivo y equivalentes                                       69\n",
      "                               Gastos pagados por adelantado                                 37\n",
      "                               Inventario                                                    61\n",
      "                               Inversiones a corto plazo                                     58\n",
      "                               Otros activos corrientes                                      61\n",
      "                               Otros créditos                                                41\n",
      "                               Total de cuentas por cobrar                                   69\n",
      "                               Total de otros activos corrientes                             51\n",
      "            activo_total       Activos intangibles                                           64\n",
      "                               Activos por impuestos diferidos a largo plazo                 44\n",
      "                               Amortización acumulada                                        69\n",
      "                               Cargos diferidos a largo plazo                                 8\n",
      "                               Crecimiento de activos totales                                69\n",
      "                               Cuentas por cobrar a largo plazo                              14\n",
      "                               Fondo de comercio                                             64\n",
      "                               Inmovilizado material bruto                                   69\n",
      "                               Inversiones a largo plazo                                     56\n",
      "                               Otros intangibles, total                                      56\n",
      "                               Planta, propiedad y equipo, neto                              69\n",
      "                               Préstamos por cobrar a largo plazo                             5\n",
      "                               Total de otros activos                                        69\n",
      "                               Total de otros activos a largo plazo                          69\n",
      "            crecimiento_deuda  Crecimiento de la deuda total                                 69\n",
      "            pasivo_corriente   Impuestos corrientes sobre la renta a pagar                   58\n",
      "                               Otros pasivos corrientes                                      60\n",
      "                               Parte actual de arrendamientos                                65\n",
      "                               Parte actual de la deuda a largo plazo                        59\n",
      "                               Parte actual de la deuda a largo plazo/arrendamientos         69\n",
      "                               Préstamos a corto plazo                                       48\n",
      "                               Total de cuentas por pagar                                    69\n",
      "                               Total de gastos devengados                                    59\n",
      "                               Total de otros pasivos corrientes                             69\n",
      "                               total de ingresos corrientes no devengados                    40\n",
      "            pasivo_total       Arrendamientos a largo plazo                                  69\n",
      "                               Crecimiento del pasivo total                                  69\n",
      "                               Deuda a largo plazo                                           69\n",
      "                               Ingresos no devengados no corrientes                          28\n",
      "                               Otros pasivos no corrientes                                   69\n",
      "                               Pasivos por impuestos no corrientes diferidos                 54\n",
      "                               Pensiones y otras prestaciones posteriores a la jubilación    28\n",
      "                               Total de otros pasivos                                        69\n",
      "            patrimonio_neto    Acciones ordinarias y APIC                                    69\n",
      "                               Acciones preferentes convertibles                             10\n",
      "                               Acciones propias                                              39\n",
      "                               Acciones propias y otras                                      69\n",
      "                               Capital pagado adicional                                      43\n",
      "                               Ganancias retenidas                                           69\n",
      "                               Ingresos globales y otros                                     69\n",
      "                               Intereses minoritarios                                        35\n",
      "                               Total de acciones ordinarias                                  66\n",
      "                               Total de acciones preferentes                                 10\n",
      "resultados                     BPA básico: Crecimiento de actividades continuadas            59\n",
      "                               BPA básico: crecimiento de actividades continuadas            64\n",
      "                               BPA diluido: Actividades continuadas                          64\n",
      "                               BPA diluido: Crecimiento de actividades continuadas           59\n",
      "                               Beneficio bruto                                               64\n",
      "                               Beneficio neto                                                64\n",
      "                               Beneficio neto sobre ingresos ordinarios                      64\n",
      "                               Beneficios netos para la empresa                              64\n",
      "                               Coste de los ingresos                                         64\n",
      "                               Crecimiento de gastos netos por intereses                     58\n",
      "                               Crecimiento de los ingresos totales                           64\n",
      "                               Crecimiento del EBITDA                                        64\n",
      "                               Crecimiento del EBT incluidas las partidas inusuales          64\n",
      "                               Crecimiento del beneficio bruto                               64\n",
      "                               Crecimiento del beneficio neto                                64\n",
      "                               Crecimiento del dividendo por acción                          45\n",
      "                               Crecimiento del margen neto                                   63\n",
      "                               Crecmiento total de otros gastos operativos                    5\n",
      "                               Dividendo por acción                                          47\n",
      "                               Dividendo preferente y otros ajustes                          15\n",
      "                               EBIT                                                          64\n",
      "                               EBITDA                                                        64\n",
      "                               EBT excepto elementos no habituales                           64\n",
      "                               EBT incluyendo las partidas inusuales                         64\n",
      "                               Ganancia (pérdida) de la venta de activos                     14\n",
      "                               Gastos de I+D                                                  5\n",
      "                               Gastos de venta, generales y administrativos                   5\n",
      "                               Gastos netos por intereses                                    61\n",
      "                               Impuesto sobre la renta                                       64\n",
      "                               Ingresos por intereses e inversiones                          50\n",
      "                               Ingresos totales                                              64\n",
      "                               Intereses minoritarios                                        35\n",
      "                               Margen EBIT %                                                 64\n",
      "                               Margen EBITDA %                                               64\n",
      "                               Margen de beneficio bruto %                                   64\n",
      "                               Margen del EBT incluidas las partidas inusuales               64\n",
      "                               Margen del beneficio neto %                                   64\n",
      "                               Margen neto                                                   64\n",
      "                               Otros gastos operativos                                        5\n",
      "                               Promedio ponderado básico de acciones en circulación          44\n",
      "                               Promedio ponderado diluido de acciones en circulación         47\n",
      "                               Total de gastos de intereses                                  61\n",
      "                               Total de otras partidas no habituales                         35\n",
      "                               Total de otros gastos no operativos                           64\n",
      "                               Total de otros gastos operativos                              59\n",
      "dtype: int64\n"
     ]
    }
   ],
   "source": [
    "indicadores = df.groupby([\"informe\",\"seccion\",\"indicador\"]).size()\n",
    "\n",
    "print(indicadores)"
   ]
  },
  {
   "cell_type": "code",
   "execution_count": null,
   "metadata": {},
   "outputs": [],
   "source": [
    "# rubros que componen cada seccion\n",
    "# no se incluye por ejemplo el rubro \"otros creditos\" ya que forma parte de \"Creditos totales\"\n",
    "activo_corriente = [\n",
    "    \"Efectivo y equivalentes\",\n",
    "    \"Inversiones a corto plazo\",\n",
    "    \"Créditos totales\",\n",
    "    \"Inventario\",\n",
    "    \"Gastos pagados por adelantado\",\n",
    "    \"Otros activos corrientes\"\n",
    "]\n",
    "activo_no_corriente = [\n",
    "    \"Planta, propiedad y equipo, neto\",\n",
    "    \"Inversiones a largo plazo\",\n",
    "    \"Activos intangibles\",\n",
    "    \"Total de otros activos\"\n",
    "]\n",
    "pasivo_corriente = [\n",
    "    \"Total de cuentas por pagar\",\n",
    "    \"Total de gastos devengados\",\n",
    "    \"Préstamos a corto plazo\",\n",
    "    \"Parte actual de la deuda a largo plazo/arrendamientos\",\n",
    "    \"Total de otros pasivos corrientes\"\n",
    "]\n",
    "pasivo_no_corriente = [\n",
    "    \"Deuda a largo plazo\",\n",
    "    \"Arrendamientos a largo plazo\",\n",
    "    \"Total de otros pasivos\"\n",
    "]\n",
    "patrimonio_neto = [\n",
    "    \"Total de acciones preferentes\",\n",
    "    \"Acciones ordinarias y APIC\",\n",
    "    \"Ganancias retenidas\",\n",
    "    \"Acciones propias y otras\",\n",
    "    \"Intereses minoritarios\"\n",
    "]\n",
    "\n",
    "inventario = [\"Inventario\"]\n",
    "\n",
    "EBIT = [\"EBIT\"]\n",
    "\t\n",
    "intereses = [\"Total de gastos de intereses\"]"
   ]
  },
  {
   "cell_type": "code",
   "execution_count": null,
   "metadata": {},
   "outputs": [],
   "source": [
    "# features de indicadores ya escrapeados\n",
    "\n",
    "indicadores_scrapeados = [\n",
    "  \"Crecimiento de efectivo y equivalentes\",\n",
    "  \"Crecimiento de activos totales\",\n",
    "  \"Crecimiento del pasivo total\",\n",
    "  \"Crecimiento de la deuda total\",\n",
    "  \"Crecimiento del beneficio neto\",\n",
    "  \"Crecimiento del EBITDA\",\n",
    "  \"Crecimiento de los ingresos totales\"\n",
    "]"
   ]
  },
  {
   "cell_type": "code",
   "execution_count": 9,
   "metadata": {},
   "outputs": [],
   "source": [
    "df[\n",
    "(df[\"informe\"] == \"balance\") &\n",
    "(df[\"seccion\"] == \"patrimonio_neto\") &\n",
    "(df[\"ejercicio\"] == 2020) &\n",
    "(df[\"company\"] == \"apple-computer-inc\")\n",
    "].to_excel(\"apple_2020.xlsx\", index=False)\n"
   ]
  },
  {
   "cell_type": "code",
   "execution_count": 3,
   "metadata": {},
   "outputs": [
    {
     "data": {
      "text/plain": [
       "array(['apple-computer-inc', 'microsoft-corp', 'google-inc',\n",
       "       'tesla-motors', 'visa-inc', 'berkshire-hathaway-inc',\n",
       "       'johnson-johnson', 'pfizer', 'amazon-com-inc', 'disney', 'nike',\n",
       "       'procter-gamble', 'chevron', '3m-co', 'coca-cola-co'], dtype=object)"
      ]
     },
     "execution_count": 3,
     "metadata": {},
     "output_type": "execute_result"
    }
   ],
   "source": [
    "df[\"company\"].unique()"
   ]
  },
  {
   "cell_type": "code",
   "execution_count": 7,
   "metadata": {},
   "outputs": [
    {
     "data": {
      "text/plain": [
       "array(['activo_corriente', 'activo_total', 'pasivo_corriente',\n",
       "       'pasivo_total', 'patrimonio_neto', 'crecimiento_deuda', ''],\n",
       "      dtype=object)"
      ]
     },
     "execution_count": 7,
     "metadata": {},
     "output_type": "execute_result"
    }
   ],
   "source": [
    "df[\"seccion\"].unique()"
   ]
  },
  {
   "cell_type": "code",
   "execution_count": null,
   "metadata": {},
   "outputs": [],
   "source": []
  }
 ],
 "metadata": {
  "kernelspec": {
   "display_name": "Python 3",
   "language": "python",
   "name": "python3"
  },
  "language_info": {
   "codemirror_mode": {
    "name": "ipython",
    "version": 3
   },
   "file_extension": ".py",
   "mimetype": "text/x-python",
   "name": "python",
   "nbconvert_exporter": "python",
   "pygments_lexer": "ipython3",
   "version": "3.12.6"
  }
 },
 "nbformat": 4,
 "nbformat_minor": 2
}
