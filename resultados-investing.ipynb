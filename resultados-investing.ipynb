{
 "cells": [
  {
   "cell_type": "markdown",
   "metadata": {},
   "source": [
    "# Scraping datos resultados anuales investing"
   ]
  },
  {
   "cell_type": "code",
   "execution_count": 1,
   "metadata": {},
   "outputs": [],
   "source": [
    "from selenium import webdriver\n",
    "from selenium.webdriver.common.by import By\n",
    "from selenium.webdriver.support.ui import WebDriverWait\n",
    "from selenium.webdriver.support import expected_conditions as EC\n",
    "from selenium.common.exceptions import TimeoutException\n",
    "import time\n",
    "import pandas as pd\n",
    "from bs4 import BeautifulSoup\n",
    "\n",
    "\n",
    "\n",
    "\n",
    "def get_resultados(tk):\n",
    "    dfs = []\n",
    "    # Configurar el navegador\n",
    "    # chrome_options = Options()\n",
    "    # chrome_options.add_argument(\"--headless\")\n",
    "    driver = webdriver.Chrome()\n",
    "    try:\n",
    "        # Abrir la URL\n",
    "        url = f\"https://es.investing.com/equities/{tk}-income-statement\"\n",
    "        driver.get(url)\n",
    "\n",
    "        # Esperar a que al menos una tabla esté presente\n",
    "        \n",
    "        wait = WebDriverWait(driver, 5)\n",
    "        wait.until(EC.presence_of_element_located((By.TAG_NAME, \"table\")))\n",
    "\n",
    "        # Obtener el HTML de la página\n",
    "        page_html = driver.page_source\n",
    "\n",
    "        # Parsear el HTML de la página con BeautifulSoup\n",
    "        soup = BeautifulSoup(page_html, \"html.parser\")\n",
    "\n",
    "        # Encontrar todas las tablas en la página\n",
    "        tables = soup.find_all(\"table\")\n",
    "\n",
    "        # Procesar cada tabla\n",
    "        for i, table in enumerate(tables):\n",
    "            # Extraer las filas de la tabla\n",
    "            rows = table.find_all(\"tr\")\n",
    "            data = []\n",
    "            for row in rows:\n",
    "                cells = row.find_all([\"td\", \"th\"])  # Buscar celdas (td) y encabezados (th)\n",
    "                cell_texts = [cell.get_text(strip=True) for cell in cells]\n",
    "                data.append(cell_texts)\n",
    "\n",
    "            # Convertir los datos en un DataFrame de Pandas\n",
    "            df = pd.DataFrame(data)\n",
    "            dfs.append(df)\n",
    "        print(\"exito al procesar!\")\n",
    "\n",
    "    except TimeoutException:\n",
    "        print(\"Error: No se encontraron tablas en la página.\")\n",
    "    except Exception as e:\n",
    "        print(f\"Error: {e}\")\n",
    "    finally:\n",
    "        # Cerrar el navegador\n",
    "        driver.quit()\n",
    "        time.sleep(5)\n",
    "    return dfs"
   ]
  },
  {
   "cell_type": "markdown",
   "metadata": {},
   "source": [
    "#### Procesamiento de datos capturados"
   ]
  },
  {
   "cell_type": "code",
   "execution_count": 66,
   "metadata": {},
   "outputs": [],
   "source": [
    "def procesar_tab(df):\n",
    "  data = pd.DataFrame()\n",
    "   \n",
    "  data = df[1].replace(\"aa.aa\",None).reset_index(drop=True)\n",
    "  data = data.drop(data[data[1]==\"\"].index,axis=0)\n",
    "  data = data[data[1].notna()]\n",
    "  data = data.drop(columns=[0])\n",
    "  data.columns = data.iloc[0]\n",
    "  data.drop(0,inplace=True,axis=0)\n",
    "  data = data.dropna(axis=1,how=\"all\")\n",
    "  data.rename(columns={data.columns[0]:\"indicador\"},inplace=True)\n",
    "\n",
    "  return data.set_index(\"indicador\")"
   ]
  },
  {
   "cell_type": "markdown",
   "metadata": {},
   "source": [
    "### Lista de Empresas"
   ]
  },
  {
   "cell_type": "code",
   "execution_count": 70,
   "metadata": {},
   "outputs": [],
   "source": [
    "companies = [\n",
    "  \"apple-computer-inc\",\n",
    "  \"microsoft-corp\",\n",
    "  \"google-inc\",\n",
    "  \"tesla-motors\",\n",
    "  \"visa-inc\",\n",
    "  \"berkshire-hathaway-inc\",\n",
    "  \"johnson-johnson\",\n",
    "  \"pfizer\",\n",
    "  \"amazon-com-inc\",\n",
    "  \"disney\",\n",
    "  \"nike\",\n",
    "  \"procter-gamble\",\n",
    "  \"coca-cola-co\",\n",
    "  \"chevron\",\n",
    "  \"3m-co\"\n",
    "]"
   ]
  },
  {
   "cell_type": "code",
   "execution_count": 71,
   "metadata": {},
   "outputs": [
    {
     "name": "stdout",
     "output_type": "stream",
     "text": [
      "Procesando apple-computer-inc\n",
      "exito al procesar!\n",
      "Guardado apple-computer-inc.csv\n",
      "Procesando microsoft-corp\n",
      "exito al procesar!\n",
      "Guardado microsoft-corp.csv\n",
      "Procesando google-inc\n",
      "exito al procesar!\n",
      "Guardado google-inc.csv\n",
      "Procesando tesla-motors\n",
      "exito al procesar!\n",
      "Guardado tesla-motors.csv\n",
      "Procesando visa-inc\n",
      "exito al procesar!\n",
      "Guardado visa-inc.csv\n",
      "Procesando berkshire-hathaway-inc\n",
      "exito al procesar!\n",
      "Guardado berkshire-hathaway-inc.csv\n",
      "Procesando johnson-johnson\n",
      "exito al procesar!\n",
      "Guardado johnson-johnson.csv\n",
      "Procesando pfizer\n",
      "exito al procesar!\n",
      "Guardado pfizer.csv\n",
      "Procesando amazon-com-inc\n",
      "exito al procesar!\n",
      "Guardado amazon-com-inc.csv\n",
      "Procesando disney\n",
      "exito al procesar!\n",
      "Guardado disney.csv\n",
      "Procesando nike\n",
      "exito al procesar!\n",
      "Guardado nike.csv\n",
      "Procesando procter-gamble\n",
      "exito al procesar!\n",
      "Guardado procter-gamble.csv\n",
      "Procesando coca-cola-co\n",
      "exito al procesar!\n",
      "Guardado coca-cola-co.csv\n",
      "Procesando chevron\n",
      "exito al procesar!\n",
      "Guardado chevron.csv\n",
      "Procesando 3m-co\n",
      "exito al procesar!\n",
      "Guardado 3m-co.csv\n"
     ]
    }
   ],
   "source": [
    "import os \n",
    "os.makedirs(\"resultados\",exist_ok=True)\n",
    "for company in companies:\n",
    "  print(f\"Procesando {company}\")\n",
    "  dfs = get_resultados(company)\n",
    "  if len(dfs) > 1:\n",
    "    df = procesar_tab(dfs)\n",
    "    df[\"company\"] = company\n",
    "    df.to_csv(f\"resultados/{company}.csv\",encoding=\"utf-8-sig\")\n",
    "    print(f\"Guardado {company}.csv\")\n",
    "  else:\n",
    "    print(f\"Error al procesar {company}\")"
   ]
  }
 ],
 "metadata": {
  "kernelspec": {
   "display_name": "Python 3",
   "language": "python",
   "name": "python3"
  },
  "language_info": {
   "codemirror_mode": {
    "name": "ipython",
    "version": 3
   },
   "file_extension": ".py",
   "mimetype": "text/x-python",
   "name": "python",
   "nbconvert_exporter": "python",
   "pygments_lexer": "ipython3",
   "version": "3.12.6"
  }
 },
 "nbformat": 4,
 "nbformat_minor": 2
}
