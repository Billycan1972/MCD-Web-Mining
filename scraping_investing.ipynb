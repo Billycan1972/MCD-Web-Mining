{
 "cells": [
  {
   "cell_type": "code",
   "execution_count": 1,
   "metadata": {},
   "outputs": [],
   "source": [
    "from selenium import webdriver\n",
    "from selenium.webdriver.common.by import By\n",
    "from selenium.webdriver.support.ui import WebDriverWait\n",
    "from selenium.webdriver.support import expected_conditions as EC\n",
    "from selenium.common.exceptions import TimeoutException\n",
    "import time\n",
    "import pandas as pd\n",
    "from bs4 import BeautifulSoup\n",
    "import re\n",
    "import sqlite3"
   ]
  },
  {
   "cell_type": "markdown",
   "metadata": {},
   "source": [
    "### Scraping Cuenta de Resultados"
   ]
  },
  {
   "cell_type": "code",
   "execution_count": 2,
   "metadata": {},
   "outputs": [],
   "source": [
    "# Función para limpiar y convertir valores a numéricos\n",
    "def convertir_a_numerico(valor):\n",
    "  if isinstance(valor, str):\n",
    "    # Extraer números, puntos y comas\n",
    "    valor = re.sub(r'[^\\d.,-]', '', valor)\n",
    "    # Reemplazar comas por puntos si es necesario\n",
    "    valor = valor.replace('.', '')\n",
    "    valor = valor.replace(',', '.')\n",
    "    try:\n",
    "      return float(valor)\n",
    "    except ValueError:\n",
    "      return None\n",
    "  return valor\n",
    "\n",
    "def scrap_resultados(tk):\n",
    "    dfs = []\n",
    "    driver = webdriver.Chrome()\n",
    "    try:\n",
    "        # Abrir la URL\n",
    "        url = f\"https://es.investing.com/equities/{tk}-income-statement\"\n",
    "        driver.get(url)\n",
    "\n",
    "        # Esperar a que al menos una tabla esté presente\n",
    "        \n",
    "        wait = WebDriverWait(driver, 5)\n",
    "        wait.until(EC.presence_of_element_located((By.TAG_NAME, \"table\")))\n",
    "\n",
    "        # Obtener el HTML de la página\n",
    "        page_html = driver.page_source\n",
    "\n",
    "        # Parsear el HTML de la página con BeautifulSoup\n",
    "        soup = BeautifulSoup(page_html, \"html.parser\")\n",
    "\n",
    "        # Encontrar todas las tablas en la página\n",
    "        tables = soup.find_all(\"table\")\n",
    "\n",
    "        # Procesar cada tabla\n",
    "        for i, table in enumerate(tables):\n",
    "            # Extraer las filas de la tabla\n",
    "            rows = table.find_all(\"tr\")\n",
    "            data = []\n",
    "            for row in rows:\n",
    "                cells = row.find_all([\"td\", \"th\"])  # Buscar celdas (td) y encabezados (th)\n",
    "                cell_texts = [cell.get_text(strip=True) for cell in cells]\n",
    "                data.append(cell_texts)\n",
    "\n",
    "            # Convertir los datos en un DataFrame de Pandas\n",
    "            df = pd.DataFrame(data)\n",
    "            dfs.append(df)\n",
    "        print(\"exito al procesar!\")\n",
    "\n",
    "    except TimeoutException:\n",
    "        print(\"Error: No se encontraron tablas en la página.\")\n",
    "    except Exception as e:\n",
    "        print(f\"Error: {e}\")\n",
    "    finally:\n",
    "        # Cerrar el navegador\n",
    "        driver.quit()\n",
    "        time.sleep(5)\n",
    "    return dfs\n",
    "  \n",
    "def procesar_tab_resultados(df):\n",
    "  data = pd.DataFrame()\n",
    "   \n",
    "  data = df[1].replace(\"aa.aa\",None).reset_index(drop=True)\n",
    "  data = data.drop(data[data[1]==\"\"].index,axis=0)\n",
    "  data = data[data[1].notna()]\n",
    "  data = data.drop(columns=[0])\n",
    "  data.columns = data.iloc[0]\n",
    "  data.drop(0,inplace=True,axis=0)\n",
    "  data = data.dropna(axis=1,how=\"all\")\n",
    "  data.rename(columns={data.columns[0]:\"indicador\"},inplace=True)\n",
    "\n",
    "\n",
    "  # Aplicar la función a todas las columnas excepto 'company'\n",
    "  ejercicios = [col for col in data.columns if col.startswith(\"20\")]\n",
    "  for col in ejercicios:  \n",
    "    data[col] = data[col].apply(convertir_a_numerico)\n",
    "  \n",
    "  data.rename(columns=lambda x: x[:4] if x.startswith('20') else x, inplace=True)\n",
    "\n",
    "  return data.set_index(\"indicador\")\n",
    "\n",
    "def get_resultados(tk):\n",
    "  dfs = scrap_resultados(tk)\n",
    "  if len(dfs) > 0:\n",
    "    df = procesar_tab_resultados(dfs)\n",
    "    df[\"company\"] = tk\n",
    "    df[\"informe\"] = \"resultados\"\n",
    "    df[\"seccion\"] = \"\"\n",
    "    return df\n",
    "  else:\n",
    "    return None\n",
    "  "
   ]
  },
  {
   "cell_type": "markdown",
   "metadata": {},
   "source": [
    "### Scraping hoja de Balance (situacion patrimonial)"
   ]
  },
  {
   "cell_type": "code",
   "execution_count": 3,
   "metadata": {},
   "outputs": [],
   "source": [
    "\n",
    "def scrap_balance_sheet(tk):\n",
    "    dfs = []\n",
    "    # Configurar el navegador\n",
    "    # chrome_options = Options()\n",
    "    # chrome_options.add_argument(\"--headless\")\n",
    "    driver = webdriver.Chrome()\n",
    "    try:\n",
    "        # Abrir la URL\n",
    "        url = f\"https://es.investing.com/equities/{tk}-balance-sheet\"\n",
    "        driver.get(url)\n",
    "\n",
    "        # Esperar a que al menos una tabla esté presente\n",
    "        \n",
    "        wait = WebDriverWait(driver, 5)\n",
    "        wait.until(EC.presence_of_element_located((By.TAG_NAME, \"table\")))\n",
    "\n",
    "        # Obtener el HTML de la página\n",
    "        page_html = driver.page_source\n",
    "\n",
    "        # Parsear el HTML de la página con BeautifulSoup\n",
    "        soup = BeautifulSoup(page_html, \"html.parser\")\n",
    "\n",
    "        # Encontrar todas las tablas en la página\n",
    "        tables = soup.find_all(\"table\")\n",
    "\n",
    "        # Procesar cada tabla\n",
    "        for i, table in enumerate(tables):\n",
    "            # Extraer las filas de la tabla\n",
    "            rows = table.find_all(\"tr\")\n",
    "            data = []\n",
    "            for row in rows:\n",
    "                cells = row.find_all([\"td\", \"th\"])  # Buscar celdas (td) y encabezados (th)\n",
    "                cell_texts = [cell.get_text(strip=True) for cell in cells]\n",
    "                data.append(cell_texts)\n",
    "\n",
    "            # Convertir los datos en un DataFrame de Pandas\n",
    "            df = pd.DataFrame(data)\n",
    "            dfs.append(df)\n",
    "        print(\"exito al procesar!\")\n",
    "\n",
    "    except TimeoutException:\n",
    "        print(\"Error: No se encontraron tablas en la página.\")\n",
    "    except Exception as e:\n",
    "        print(f\"Error: {e}\")\n",
    "    finally:\n",
    "        # Cerrar el navegador\n",
    "        driver.quit()\n",
    "        time.sleep(5)\n",
    "    return dfs\n",
    "  \n",
    "def procesar_tab(df):\n",
    "  titulos = df[1].T[0].dropna().reset_index(drop=True).tolist()[1:]\n",
    "  titulos[0] = \"indicador\"\n",
    "\n",
    "  result = pd.DataFrame()\n",
    "   \n",
    "  estructura = [\n",
    "  {\"seccion\":\"activo_corriente\", \"rubros\":2,\"valores\":3},\n",
    "  {\"seccion\":\"activo_total\", \"rubros\":4,\"valores\":5},\n",
    "  {\"seccion\":\"pasivo_corriente\", \"rubros\":6,\"valores\":7},\n",
    "  {\"seccion\":\"pasivo_total\", \"rubros\":8,\"valores\":9},\n",
    "  {\"seccion\":\"patrimonio_neto\", \"rubros\":10,\"valores\":11},\n",
    "  {\"seccion\":\"crecimiento_deuda\", \"rubros\":14,\"valores\":15},\n",
    "]\n",
    "  for e in estructura:\n",
    "    try:\n",
    "      data =  pd.concat([df[e[\"rubros\"]][1],df[e[\"valores\"]]], axis=1)\n",
    "      data.columns = titulos\n",
    "      data.replace(\"aa.aa\",None,inplace=True)\n",
    "      data.dropna(inplace=True, axis=1)\n",
    "      data[\"seccion\"] = e[\"seccion\"]\n",
    "      \n",
    "      result = pd.concat([result, data.reset_index(drop=True)], axis=0)\n",
    "    except:\n",
    "      pass\n",
    "  \n",
    "    # Aplicar la función a todas las columnas excepto 'company'\n",
    "  ejercicios = [col for col in result.columns if col.startswith(\"20\")]\n",
    "  for col in ejercicios:  # se aplica a las columnas de ejercicios\n",
    "    result[col] = result[col].apply(convertir_a_numerico)\n",
    "  \n",
    "  result.rename(columns=lambda x: x[:4] if x.startswith('20') else x, inplace=True)\n",
    "  \n",
    "  return result.set_index(\"indicador\")\n",
    "\n",
    "def get_balance_sheet(tk):\n",
    "  dfs = scrap_balance_sheet(tk)\n",
    "  if len(dfs) > 0:\n",
    "    df = procesar_tab(dfs)\n",
    "    df[\"company\"] = tk\n",
    "    df[\"informe\"] = \"balance\"\n",
    "    return df\n",
    "  else:\n",
    "    return None"
   ]
  },
  {
   "cell_type": "markdown",
   "metadata": {},
   "source": [
    "### Guardar datos anuales en bbdd"
   ]
  },
  {
   "cell_type": "code",
   "execution_count": 4,
   "metadata": {},
   "outputs": [],
   "source": [
    "def save_datos_anuales(df):\n",
    "    # Conectar a la base de datos (o crearla si no existe)\n",
    "    conn = sqlite3.connect('webmining.db')\n",
    "    cursor = conn.cursor()\n",
    "    cursor.execute('''\n",
    "    CREATE TABLE IF NOT EXISTS datos_anuales (\n",
    "        id INTEGER PRIMARY KEY AUTOINCREMENT,\n",
    "        company TEXT NOT NULL,\n",
    "        informe TEXT NOT NULL,\n",
    "        ejercicio INTEGER NOT NULL,\n",
    "        seccion TEXT NULL,\n",
    "        indicador TEXT NOT NULL,\n",
    "        valor REAL\n",
    "    )\n",
    "    ''')\n",
    "    # Insertar datos\n",
    "    ejercicios = [col for col in df.columns if col.isnumeric()]\n",
    "    for ejercicio in ejercicios:\n",
    "        # eliminar los datos para evitar duplicados\n",
    "        company = df['company'][0]\n",
    "        informe = df['informe'][0]\n",
    "        cursor.execute(f\"\"\"\n",
    "                    DELETE FROM datos_anuales \n",
    "                    WHERE company = '{company}' AND \n",
    "                    informe = '{informe}' AND \n",
    "                    ejercicio = {ejercicio}\n",
    "                    \"\"\")\n",
    "        conn.commit()\n",
    "        \n",
    "        # Estructurar e insertar los datos\n",
    "        df_ej = df[[ejercicio, \"company\", \"informe\",\"seccion\"]].copy().reset_index()\n",
    "        df_ej[\"ejercicio\"] = int(ejercicio)\n",
    "        df_ej.rename(columns={ejercicio: \"valor\"}, inplace=True)\n",
    "        df_ej.dropna(subset=[\"valor\"], inplace=True)\n",
    "        df_ej.to_sql('datos_anuales', conn, if_exists='append', index=False)\n",
    "        # Guardar los cambios\n",
    "        conn.commit()\n",
    "    # Cerrar la conexión\n",
    "    conn.close()"
   ]
  },
  {
   "cell_type": "code",
   "execution_count": 5,
   "metadata": {},
   "outputs": [],
   "source": [
    "companies = [\n",
    "  # \"apple-computer-inc\",\n",
    "  # \"microsoft-corp\",\n",
    "  # \"google-inc\",\n",
    "  # \"tesla-motors\",\n",
    "  # \"visa-inc\",\n",
    "  # \"berkshire-hathaway-inc\",\n",
    "  # \"ypf-sa\",\n",
    "  # \"pfizer\",\n",
    "  # \"amazon-com-inc\",\n",
    "  # \"disney\",\n",
    "  # \"nike\",\n",
    "  # \"procter-gamble\",\n",
    "  # \"coca-cola-co\",\n",
    "  # \"chevron\",\n",
    "  # \"3m-co\"\n",
    "  \"nvidia-corp\",\n",
    "  \"intel-corp\",\n",
    "  \"adv-micro-device\",\n",
    "  \"caterpillar\",\n",
    "  \"ford-motor-co\",\n",
    "  \"deere---co\",\n",
    "  \"delta-air-lines-new\",\n",
    "  \"boeing-co\",\n",
    "  \"at-t\",\n",
    "  \"mcdonalds\",\n",
    "    \n",
    "  \n",
    "]"
   ]
  },
  {
   "cell_type": "code",
   "execution_count": 6,
   "metadata": {},
   "outputs": [
    {
     "name": "stdout",
     "output_type": "stream",
     "text": [
      "Procesando nvidia-corp...\n",
      "exito al procesar!\n"
     ]
    },
    {
     "name": "stderr",
     "output_type": "stream",
     "text": [
      "C:\\Users\\carre\\AppData\\Local\\Temp\\ipykernel_13444\\2423473215.py:20: FutureWarning: Series.__getitem__ treating keys as positions is deprecated. In a future version, integer keys will always be treated as labels (consistent with DataFrame behavior). To access a value by position, use `ser.iloc[pos]`\n",
      "  company = df['company'][0]\n",
      "C:\\Users\\carre\\AppData\\Local\\Temp\\ipykernel_13444\\2423473215.py:21: FutureWarning: Series.__getitem__ treating keys as positions is deprecated. In a future version, integer keys will always be treated as labels (consistent with DataFrame behavior). To access a value by position, use `ser.iloc[pos]`\n",
      "  informe = df['informe'][0]\n",
      "C:\\Users\\carre\\AppData\\Local\\Temp\\ipykernel_13444\\2423473215.py:20: FutureWarning: Series.__getitem__ treating keys as positions is deprecated. In a future version, integer keys will always be treated as labels (consistent with DataFrame behavior). To access a value by position, use `ser.iloc[pos]`\n",
      "  company = df['company'][0]\n",
      "C:\\Users\\carre\\AppData\\Local\\Temp\\ipykernel_13444\\2423473215.py:21: FutureWarning: Series.__getitem__ treating keys as positions is deprecated. In a future version, integer keys will always be treated as labels (consistent with DataFrame behavior). To access a value by position, use `ser.iloc[pos]`\n",
      "  informe = df['informe'][0]\n",
      "C:\\Users\\carre\\AppData\\Local\\Temp\\ipykernel_13444\\2423473215.py:20: FutureWarning: Series.__getitem__ treating keys as positions is deprecated. In a future version, integer keys will always be treated as labels (consistent with DataFrame behavior). To access a value by position, use `ser.iloc[pos]`\n",
      "  company = df['company'][0]\n",
      "C:\\Users\\carre\\AppData\\Local\\Temp\\ipykernel_13444\\2423473215.py:21: FutureWarning: Series.__getitem__ treating keys as positions is deprecated. In a future version, integer keys will always be treated as labels (consistent with DataFrame behavior). To access a value by position, use `ser.iloc[pos]`\n",
      "  informe = df['informe'][0]\n",
      "C:\\Users\\carre\\AppData\\Local\\Temp\\ipykernel_13444\\2423473215.py:20: FutureWarning: Series.__getitem__ treating keys as positions is deprecated. In a future version, integer keys will always be treated as labels (consistent with DataFrame behavior). To access a value by position, use `ser.iloc[pos]`\n",
      "  company = df['company'][0]\n",
      "C:\\Users\\carre\\AppData\\Local\\Temp\\ipykernel_13444\\2423473215.py:21: FutureWarning: Series.__getitem__ treating keys as positions is deprecated. In a future version, integer keys will always be treated as labels (consistent with DataFrame behavior). To access a value by position, use `ser.iloc[pos]`\n",
      "  informe = df['informe'][0]\n",
      "C:\\Users\\carre\\AppData\\Local\\Temp\\ipykernel_13444\\2423473215.py:20: FutureWarning: Series.__getitem__ treating keys as positions is deprecated. In a future version, integer keys will always be treated as labels (consistent with DataFrame behavior). To access a value by position, use `ser.iloc[pos]`\n",
      "  company = df['company'][0]\n",
      "C:\\Users\\carre\\AppData\\Local\\Temp\\ipykernel_13444\\2423473215.py:21: FutureWarning: Series.__getitem__ treating keys as positions is deprecated. In a future version, integer keys will always be treated as labels (consistent with DataFrame behavior). To access a value by position, use `ser.iloc[pos]`\n",
      "  informe = df['informe'][0]\n"
     ]
    },
    {
     "name": "stdout",
     "output_type": "stream",
     "text": [
      "exito al procesar!\n"
     ]
    },
    {
     "name": "stderr",
     "output_type": "stream",
     "text": [
      "C:\\Users\\carre\\AppData\\Local\\Temp\\ipykernel_13444\\2423473215.py:20: FutureWarning: Series.__getitem__ treating keys as positions is deprecated. In a future version, integer keys will always be treated as labels (consistent with DataFrame behavior). To access a value by position, use `ser.iloc[pos]`\n",
      "  company = df['company'][0]\n",
      "C:\\Users\\carre\\AppData\\Local\\Temp\\ipykernel_13444\\2423473215.py:21: FutureWarning: Series.__getitem__ treating keys as positions is deprecated. In a future version, integer keys will always be treated as labels (consistent with DataFrame behavior). To access a value by position, use `ser.iloc[pos]`\n",
      "  informe = df['informe'][0]\n",
      "C:\\Users\\carre\\AppData\\Local\\Temp\\ipykernel_13444\\2423473215.py:20: FutureWarning: Series.__getitem__ treating keys as positions is deprecated. In a future version, integer keys will always be treated as labels (consistent with DataFrame behavior). To access a value by position, use `ser.iloc[pos]`\n",
      "  company = df['company'][0]\n",
      "C:\\Users\\carre\\AppData\\Local\\Temp\\ipykernel_13444\\2423473215.py:21: FutureWarning: Series.__getitem__ treating keys as positions is deprecated. In a future version, integer keys will always be treated as labels (consistent with DataFrame behavior). To access a value by position, use `ser.iloc[pos]`\n",
      "  informe = df['informe'][0]\n",
      "C:\\Users\\carre\\AppData\\Local\\Temp\\ipykernel_13444\\2423473215.py:20: FutureWarning: Series.__getitem__ treating keys as positions is deprecated. In a future version, integer keys will always be treated as labels (consistent with DataFrame behavior). To access a value by position, use `ser.iloc[pos]`\n",
      "  company = df['company'][0]\n",
      "C:\\Users\\carre\\AppData\\Local\\Temp\\ipykernel_13444\\2423473215.py:21: FutureWarning: Series.__getitem__ treating keys as positions is deprecated. In a future version, integer keys will always be treated as labels (consistent with DataFrame behavior). To access a value by position, use `ser.iloc[pos]`\n",
      "  informe = df['informe'][0]\n",
      "C:\\Users\\carre\\AppData\\Local\\Temp\\ipykernel_13444\\2423473215.py:20: FutureWarning: Series.__getitem__ treating keys as positions is deprecated. In a future version, integer keys will always be treated as labels (consistent with DataFrame behavior). To access a value by position, use `ser.iloc[pos]`\n",
      "  company = df['company'][0]\n",
      "C:\\Users\\carre\\AppData\\Local\\Temp\\ipykernel_13444\\2423473215.py:21: FutureWarning: Series.__getitem__ treating keys as positions is deprecated. In a future version, integer keys will always be treated as labels (consistent with DataFrame behavior). To access a value by position, use `ser.iloc[pos]`\n",
      "  informe = df['informe'][0]\n",
      "C:\\Users\\carre\\AppData\\Local\\Temp\\ipykernel_13444\\2423473215.py:20: FutureWarning: Series.__getitem__ treating keys as positions is deprecated. In a future version, integer keys will always be treated as labels (consistent with DataFrame behavior). To access a value by position, use `ser.iloc[pos]`\n",
      "  company = df['company'][0]\n",
      "C:\\Users\\carre\\AppData\\Local\\Temp\\ipykernel_13444\\2423473215.py:21: FutureWarning: Series.__getitem__ treating keys as positions is deprecated. In a future version, integer keys will always be treated as labels (consistent with DataFrame behavior). To access a value by position, use `ser.iloc[pos]`\n",
      "  informe = df['informe'][0]\n"
     ]
    },
    {
     "name": "stdout",
     "output_type": "stream",
     "text": [
      "nvidia-corp procesado con éxito!\n",
      "Procesando intel-corp...\n",
      "exito al procesar!\n"
     ]
    },
    {
     "name": "stderr",
     "output_type": "stream",
     "text": [
      "C:\\Users\\carre\\AppData\\Local\\Temp\\ipykernel_13444\\2423473215.py:20: FutureWarning: Series.__getitem__ treating keys as positions is deprecated. In a future version, integer keys will always be treated as labels (consistent with DataFrame behavior). To access a value by position, use `ser.iloc[pos]`\n",
      "  company = df['company'][0]\n",
      "C:\\Users\\carre\\AppData\\Local\\Temp\\ipykernel_13444\\2423473215.py:21: FutureWarning: Series.__getitem__ treating keys as positions is deprecated. In a future version, integer keys will always be treated as labels (consistent with DataFrame behavior). To access a value by position, use `ser.iloc[pos]`\n",
      "  informe = df['informe'][0]\n",
      "C:\\Users\\carre\\AppData\\Local\\Temp\\ipykernel_13444\\2423473215.py:20: FutureWarning: Series.__getitem__ treating keys as positions is deprecated. In a future version, integer keys will always be treated as labels (consistent with DataFrame behavior). To access a value by position, use `ser.iloc[pos]`\n",
      "  company = df['company'][0]\n",
      "C:\\Users\\carre\\AppData\\Local\\Temp\\ipykernel_13444\\2423473215.py:21: FutureWarning: Series.__getitem__ treating keys as positions is deprecated. In a future version, integer keys will always be treated as labels (consistent with DataFrame behavior). To access a value by position, use `ser.iloc[pos]`\n",
      "  informe = df['informe'][0]\n",
      "C:\\Users\\carre\\AppData\\Local\\Temp\\ipykernel_13444\\2423473215.py:20: FutureWarning: Series.__getitem__ treating keys as positions is deprecated. In a future version, integer keys will always be treated as labels (consistent with DataFrame behavior). To access a value by position, use `ser.iloc[pos]`\n",
      "  company = df['company'][0]\n",
      "C:\\Users\\carre\\AppData\\Local\\Temp\\ipykernel_13444\\2423473215.py:21: FutureWarning: Series.__getitem__ treating keys as positions is deprecated. In a future version, integer keys will always be treated as labels (consistent with DataFrame behavior). To access a value by position, use `ser.iloc[pos]`\n",
      "  informe = df['informe'][0]\n",
      "C:\\Users\\carre\\AppData\\Local\\Temp\\ipykernel_13444\\2423473215.py:20: FutureWarning: Series.__getitem__ treating keys as positions is deprecated. In a future version, integer keys will always be treated as labels (consistent with DataFrame behavior). To access a value by position, use `ser.iloc[pos]`\n",
      "  company = df['company'][0]\n",
      "C:\\Users\\carre\\AppData\\Local\\Temp\\ipykernel_13444\\2423473215.py:21: FutureWarning: Series.__getitem__ treating keys as positions is deprecated. In a future version, integer keys will always be treated as labels (consistent with DataFrame behavior). To access a value by position, use `ser.iloc[pos]`\n",
      "  informe = df['informe'][0]\n",
      "C:\\Users\\carre\\AppData\\Local\\Temp\\ipykernel_13444\\2423473215.py:20: FutureWarning: Series.__getitem__ treating keys as positions is deprecated. In a future version, integer keys will always be treated as labels (consistent with DataFrame behavior). To access a value by position, use `ser.iloc[pos]`\n",
      "  company = df['company'][0]\n",
      "C:\\Users\\carre\\AppData\\Local\\Temp\\ipykernel_13444\\2423473215.py:21: FutureWarning: Series.__getitem__ treating keys as positions is deprecated. In a future version, integer keys will always be treated as labels (consistent with DataFrame behavior). To access a value by position, use `ser.iloc[pos]`\n",
      "  informe = df['informe'][0]\n"
     ]
    },
    {
     "name": "stdout",
     "output_type": "stream",
     "text": [
      "exito al procesar!\n"
     ]
    },
    {
     "name": "stderr",
     "output_type": "stream",
     "text": [
      "C:\\Users\\carre\\AppData\\Local\\Temp\\ipykernel_13444\\2423473215.py:20: FutureWarning: Series.__getitem__ treating keys as positions is deprecated. In a future version, integer keys will always be treated as labels (consistent with DataFrame behavior). To access a value by position, use `ser.iloc[pos]`\n",
      "  company = df['company'][0]\n",
      "C:\\Users\\carre\\AppData\\Local\\Temp\\ipykernel_13444\\2423473215.py:21: FutureWarning: Series.__getitem__ treating keys as positions is deprecated. In a future version, integer keys will always be treated as labels (consistent with DataFrame behavior). To access a value by position, use `ser.iloc[pos]`\n",
      "  informe = df['informe'][0]\n",
      "C:\\Users\\carre\\AppData\\Local\\Temp\\ipykernel_13444\\2423473215.py:20: FutureWarning: Series.__getitem__ treating keys as positions is deprecated. In a future version, integer keys will always be treated as labels (consistent with DataFrame behavior). To access a value by position, use `ser.iloc[pos]`\n",
      "  company = df['company'][0]\n",
      "C:\\Users\\carre\\AppData\\Local\\Temp\\ipykernel_13444\\2423473215.py:21: FutureWarning: Series.__getitem__ treating keys as positions is deprecated. In a future version, integer keys will always be treated as labels (consistent with DataFrame behavior). To access a value by position, use `ser.iloc[pos]`\n",
      "  informe = df['informe'][0]\n",
      "C:\\Users\\carre\\AppData\\Local\\Temp\\ipykernel_13444\\2423473215.py:20: FutureWarning: Series.__getitem__ treating keys as positions is deprecated. In a future version, integer keys will always be treated as labels (consistent with DataFrame behavior). To access a value by position, use `ser.iloc[pos]`\n",
      "  company = df['company'][0]\n",
      "C:\\Users\\carre\\AppData\\Local\\Temp\\ipykernel_13444\\2423473215.py:21: FutureWarning: Series.__getitem__ treating keys as positions is deprecated. In a future version, integer keys will always be treated as labels (consistent with DataFrame behavior). To access a value by position, use `ser.iloc[pos]`\n",
      "  informe = df['informe'][0]\n",
      "C:\\Users\\carre\\AppData\\Local\\Temp\\ipykernel_13444\\2423473215.py:20: FutureWarning: Series.__getitem__ treating keys as positions is deprecated. In a future version, integer keys will always be treated as labels (consistent with DataFrame behavior). To access a value by position, use `ser.iloc[pos]`\n",
      "  company = df['company'][0]\n",
      "C:\\Users\\carre\\AppData\\Local\\Temp\\ipykernel_13444\\2423473215.py:21: FutureWarning: Series.__getitem__ treating keys as positions is deprecated. In a future version, integer keys will always be treated as labels (consistent with DataFrame behavior). To access a value by position, use `ser.iloc[pos]`\n",
      "  informe = df['informe'][0]\n",
      "C:\\Users\\carre\\AppData\\Local\\Temp\\ipykernel_13444\\2423473215.py:20: FutureWarning: Series.__getitem__ treating keys as positions is deprecated. In a future version, integer keys will always be treated as labels (consistent with DataFrame behavior). To access a value by position, use `ser.iloc[pos]`\n",
      "  company = df['company'][0]\n",
      "C:\\Users\\carre\\AppData\\Local\\Temp\\ipykernel_13444\\2423473215.py:21: FutureWarning: Series.__getitem__ treating keys as positions is deprecated. In a future version, integer keys will always be treated as labels (consistent with DataFrame behavior). To access a value by position, use `ser.iloc[pos]`\n",
      "  informe = df['informe'][0]\n"
     ]
    },
    {
     "name": "stdout",
     "output_type": "stream",
     "text": [
      "intel-corp procesado con éxito!\n",
      "Procesando adv-micro-device...\n",
      "exito al procesar!\n"
     ]
    },
    {
     "name": "stderr",
     "output_type": "stream",
     "text": [
      "C:\\Users\\carre\\AppData\\Local\\Temp\\ipykernel_13444\\2423473215.py:20: FutureWarning: Series.__getitem__ treating keys as positions is deprecated. In a future version, integer keys will always be treated as labels (consistent with DataFrame behavior). To access a value by position, use `ser.iloc[pos]`\n",
      "  company = df['company'][0]\n",
      "C:\\Users\\carre\\AppData\\Local\\Temp\\ipykernel_13444\\2423473215.py:21: FutureWarning: Series.__getitem__ treating keys as positions is deprecated. In a future version, integer keys will always be treated as labels (consistent with DataFrame behavior). To access a value by position, use `ser.iloc[pos]`\n",
      "  informe = df['informe'][0]\n",
      "C:\\Users\\carre\\AppData\\Local\\Temp\\ipykernel_13444\\2423473215.py:20: FutureWarning: Series.__getitem__ treating keys as positions is deprecated. In a future version, integer keys will always be treated as labels (consistent with DataFrame behavior). To access a value by position, use `ser.iloc[pos]`\n",
      "  company = df['company'][0]\n",
      "C:\\Users\\carre\\AppData\\Local\\Temp\\ipykernel_13444\\2423473215.py:21: FutureWarning: Series.__getitem__ treating keys as positions is deprecated. In a future version, integer keys will always be treated as labels (consistent with DataFrame behavior). To access a value by position, use `ser.iloc[pos]`\n",
      "  informe = df['informe'][0]\n",
      "C:\\Users\\carre\\AppData\\Local\\Temp\\ipykernel_13444\\2423473215.py:20: FutureWarning: Series.__getitem__ treating keys as positions is deprecated. In a future version, integer keys will always be treated as labels (consistent with DataFrame behavior). To access a value by position, use `ser.iloc[pos]`\n",
      "  company = df['company'][0]\n",
      "C:\\Users\\carre\\AppData\\Local\\Temp\\ipykernel_13444\\2423473215.py:21: FutureWarning: Series.__getitem__ treating keys as positions is deprecated. In a future version, integer keys will always be treated as labels (consistent with DataFrame behavior). To access a value by position, use `ser.iloc[pos]`\n",
      "  informe = df['informe'][0]\n",
      "C:\\Users\\carre\\AppData\\Local\\Temp\\ipykernel_13444\\2423473215.py:20: FutureWarning: Series.__getitem__ treating keys as positions is deprecated. In a future version, integer keys will always be treated as labels (consistent with DataFrame behavior). To access a value by position, use `ser.iloc[pos]`\n",
      "  company = df['company'][0]\n",
      "C:\\Users\\carre\\AppData\\Local\\Temp\\ipykernel_13444\\2423473215.py:21: FutureWarning: Series.__getitem__ treating keys as positions is deprecated. In a future version, integer keys will always be treated as labels (consistent with DataFrame behavior). To access a value by position, use `ser.iloc[pos]`\n",
      "  informe = df['informe'][0]\n",
      "C:\\Users\\carre\\AppData\\Local\\Temp\\ipykernel_13444\\2423473215.py:20: FutureWarning: Series.__getitem__ treating keys as positions is deprecated. In a future version, integer keys will always be treated as labels (consistent with DataFrame behavior). To access a value by position, use `ser.iloc[pos]`\n",
      "  company = df['company'][0]\n",
      "C:\\Users\\carre\\AppData\\Local\\Temp\\ipykernel_13444\\2423473215.py:21: FutureWarning: Series.__getitem__ treating keys as positions is deprecated. In a future version, integer keys will always be treated as labels (consistent with DataFrame behavior). To access a value by position, use `ser.iloc[pos]`\n",
      "  informe = df['informe'][0]\n"
     ]
    },
    {
     "name": "stdout",
     "output_type": "stream",
     "text": [
      "exito al procesar!\n"
     ]
    },
    {
     "name": "stderr",
     "output_type": "stream",
     "text": [
      "C:\\Users\\carre\\AppData\\Local\\Temp\\ipykernel_13444\\2423473215.py:20: FutureWarning: Series.__getitem__ treating keys as positions is deprecated. In a future version, integer keys will always be treated as labels (consistent with DataFrame behavior). To access a value by position, use `ser.iloc[pos]`\n",
      "  company = df['company'][0]\n",
      "C:\\Users\\carre\\AppData\\Local\\Temp\\ipykernel_13444\\2423473215.py:21: FutureWarning: Series.__getitem__ treating keys as positions is deprecated. In a future version, integer keys will always be treated as labels (consistent with DataFrame behavior). To access a value by position, use `ser.iloc[pos]`\n",
      "  informe = df['informe'][0]\n",
      "C:\\Users\\carre\\AppData\\Local\\Temp\\ipykernel_13444\\2423473215.py:20: FutureWarning: Series.__getitem__ treating keys as positions is deprecated. In a future version, integer keys will always be treated as labels (consistent with DataFrame behavior). To access a value by position, use `ser.iloc[pos]`\n",
      "  company = df['company'][0]\n",
      "C:\\Users\\carre\\AppData\\Local\\Temp\\ipykernel_13444\\2423473215.py:21: FutureWarning: Series.__getitem__ treating keys as positions is deprecated. In a future version, integer keys will always be treated as labels (consistent with DataFrame behavior). To access a value by position, use `ser.iloc[pos]`\n",
      "  informe = df['informe'][0]\n",
      "C:\\Users\\carre\\AppData\\Local\\Temp\\ipykernel_13444\\2423473215.py:20: FutureWarning: Series.__getitem__ treating keys as positions is deprecated. In a future version, integer keys will always be treated as labels (consistent with DataFrame behavior). To access a value by position, use `ser.iloc[pos]`\n",
      "  company = df['company'][0]\n",
      "C:\\Users\\carre\\AppData\\Local\\Temp\\ipykernel_13444\\2423473215.py:21: FutureWarning: Series.__getitem__ treating keys as positions is deprecated. In a future version, integer keys will always be treated as labels (consistent with DataFrame behavior). To access a value by position, use `ser.iloc[pos]`\n",
      "  informe = df['informe'][0]\n",
      "C:\\Users\\carre\\AppData\\Local\\Temp\\ipykernel_13444\\2423473215.py:20: FutureWarning: Series.__getitem__ treating keys as positions is deprecated. In a future version, integer keys will always be treated as labels (consistent with DataFrame behavior). To access a value by position, use `ser.iloc[pos]`\n",
      "  company = df['company'][0]\n",
      "C:\\Users\\carre\\AppData\\Local\\Temp\\ipykernel_13444\\2423473215.py:21: FutureWarning: Series.__getitem__ treating keys as positions is deprecated. In a future version, integer keys will always be treated as labels (consistent with DataFrame behavior). To access a value by position, use `ser.iloc[pos]`\n",
      "  informe = df['informe'][0]\n",
      "C:\\Users\\carre\\AppData\\Local\\Temp\\ipykernel_13444\\2423473215.py:20: FutureWarning: Series.__getitem__ treating keys as positions is deprecated. In a future version, integer keys will always be treated as labels (consistent with DataFrame behavior). To access a value by position, use `ser.iloc[pos]`\n",
      "  company = df['company'][0]\n",
      "C:\\Users\\carre\\AppData\\Local\\Temp\\ipykernel_13444\\2423473215.py:21: FutureWarning: Series.__getitem__ treating keys as positions is deprecated. In a future version, integer keys will always be treated as labels (consistent with DataFrame behavior). To access a value by position, use `ser.iloc[pos]`\n",
      "  informe = df['informe'][0]\n"
     ]
    },
    {
     "name": "stdout",
     "output_type": "stream",
     "text": [
      "adv-micro-device procesado con éxito!\n",
      "Procesando caterpillar...\n",
      "exito al procesar!\n"
     ]
    },
    {
     "name": "stderr",
     "output_type": "stream",
     "text": [
      "C:\\Users\\carre\\AppData\\Local\\Temp\\ipykernel_13444\\2423473215.py:20: FutureWarning: Series.__getitem__ treating keys as positions is deprecated. In a future version, integer keys will always be treated as labels (consistent with DataFrame behavior). To access a value by position, use `ser.iloc[pos]`\n",
      "  company = df['company'][0]\n",
      "C:\\Users\\carre\\AppData\\Local\\Temp\\ipykernel_13444\\2423473215.py:21: FutureWarning: Series.__getitem__ treating keys as positions is deprecated. In a future version, integer keys will always be treated as labels (consistent with DataFrame behavior). To access a value by position, use `ser.iloc[pos]`\n",
      "  informe = df['informe'][0]\n",
      "C:\\Users\\carre\\AppData\\Local\\Temp\\ipykernel_13444\\2423473215.py:20: FutureWarning: Series.__getitem__ treating keys as positions is deprecated. In a future version, integer keys will always be treated as labels (consistent with DataFrame behavior). To access a value by position, use `ser.iloc[pos]`\n",
      "  company = df['company'][0]\n",
      "C:\\Users\\carre\\AppData\\Local\\Temp\\ipykernel_13444\\2423473215.py:21: FutureWarning: Series.__getitem__ treating keys as positions is deprecated. In a future version, integer keys will always be treated as labels (consistent with DataFrame behavior). To access a value by position, use `ser.iloc[pos]`\n",
      "  informe = df['informe'][0]\n",
      "C:\\Users\\carre\\AppData\\Local\\Temp\\ipykernel_13444\\2423473215.py:20: FutureWarning: Series.__getitem__ treating keys as positions is deprecated. In a future version, integer keys will always be treated as labels (consistent with DataFrame behavior). To access a value by position, use `ser.iloc[pos]`\n",
      "  company = df['company'][0]\n",
      "C:\\Users\\carre\\AppData\\Local\\Temp\\ipykernel_13444\\2423473215.py:21: FutureWarning: Series.__getitem__ treating keys as positions is deprecated. In a future version, integer keys will always be treated as labels (consistent with DataFrame behavior). To access a value by position, use `ser.iloc[pos]`\n",
      "  informe = df['informe'][0]\n",
      "C:\\Users\\carre\\AppData\\Local\\Temp\\ipykernel_13444\\2423473215.py:20: FutureWarning: Series.__getitem__ treating keys as positions is deprecated. In a future version, integer keys will always be treated as labels (consistent with DataFrame behavior). To access a value by position, use `ser.iloc[pos]`\n",
      "  company = df['company'][0]\n",
      "C:\\Users\\carre\\AppData\\Local\\Temp\\ipykernel_13444\\2423473215.py:21: FutureWarning: Series.__getitem__ treating keys as positions is deprecated. In a future version, integer keys will always be treated as labels (consistent with DataFrame behavior). To access a value by position, use `ser.iloc[pos]`\n",
      "  informe = df['informe'][0]\n",
      "C:\\Users\\carre\\AppData\\Local\\Temp\\ipykernel_13444\\2423473215.py:20: FutureWarning: Series.__getitem__ treating keys as positions is deprecated. In a future version, integer keys will always be treated as labels (consistent with DataFrame behavior). To access a value by position, use `ser.iloc[pos]`\n",
      "  company = df['company'][0]\n",
      "C:\\Users\\carre\\AppData\\Local\\Temp\\ipykernel_13444\\2423473215.py:21: FutureWarning: Series.__getitem__ treating keys as positions is deprecated. In a future version, integer keys will always be treated as labels (consistent with DataFrame behavior). To access a value by position, use `ser.iloc[pos]`\n",
      "  informe = df['informe'][0]\n"
     ]
    },
    {
     "name": "stdout",
     "output_type": "stream",
     "text": [
      "exito al procesar!\n"
     ]
    },
    {
     "name": "stderr",
     "output_type": "stream",
     "text": [
      "C:\\Users\\carre\\AppData\\Local\\Temp\\ipykernel_13444\\2423473215.py:20: FutureWarning: Series.__getitem__ treating keys as positions is deprecated. In a future version, integer keys will always be treated as labels (consistent with DataFrame behavior). To access a value by position, use `ser.iloc[pos]`\n",
      "  company = df['company'][0]\n",
      "C:\\Users\\carre\\AppData\\Local\\Temp\\ipykernel_13444\\2423473215.py:21: FutureWarning: Series.__getitem__ treating keys as positions is deprecated. In a future version, integer keys will always be treated as labels (consistent with DataFrame behavior). To access a value by position, use `ser.iloc[pos]`\n",
      "  informe = df['informe'][0]\n",
      "C:\\Users\\carre\\AppData\\Local\\Temp\\ipykernel_13444\\2423473215.py:20: FutureWarning: Series.__getitem__ treating keys as positions is deprecated. In a future version, integer keys will always be treated as labels (consistent with DataFrame behavior). To access a value by position, use `ser.iloc[pos]`\n",
      "  company = df['company'][0]\n",
      "C:\\Users\\carre\\AppData\\Local\\Temp\\ipykernel_13444\\2423473215.py:21: FutureWarning: Series.__getitem__ treating keys as positions is deprecated. In a future version, integer keys will always be treated as labels (consistent with DataFrame behavior). To access a value by position, use `ser.iloc[pos]`\n",
      "  informe = df['informe'][0]\n",
      "C:\\Users\\carre\\AppData\\Local\\Temp\\ipykernel_13444\\2423473215.py:20: FutureWarning: Series.__getitem__ treating keys as positions is deprecated. In a future version, integer keys will always be treated as labels (consistent with DataFrame behavior). To access a value by position, use `ser.iloc[pos]`\n",
      "  company = df['company'][0]\n",
      "C:\\Users\\carre\\AppData\\Local\\Temp\\ipykernel_13444\\2423473215.py:21: FutureWarning: Series.__getitem__ treating keys as positions is deprecated. In a future version, integer keys will always be treated as labels (consistent with DataFrame behavior). To access a value by position, use `ser.iloc[pos]`\n",
      "  informe = df['informe'][0]\n",
      "C:\\Users\\carre\\AppData\\Local\\Temp\\ipykernel_13444\\2423473215.py:20: FutureWarning: Series.__getitem__ treating keys as positions is deprecated. In a future version, integer keys will always be treated as labels (consistent with DataFrame behavior). To access a value by position, use `ser.iloc[pos]`\n",
      "  company = df['company'][0]\n",
      "C:\\Users\\carre\\AppData\\Local\\Temp\\ipykernel_13444\\2423473215.py:21: FutureWarning: Series.__getitem__ treating keys as positions is deprecated. In a future version, integer keys will always be treated as labels (consistent with DataFrame behavior). To access a value by position, use `ser.iloc[pos]`\n",
      "  informe = df['informe'][0]\n",
      "C:\\Users\\carre\\AppData\\Local\\Temp\\ipykernel_13444\\2423473215.py:20: FutureWarning: Series.__getitem__ treating keys as positions is deprecated. In a future version, integer keys will always be treated as labels (consistent with DataFrame behavior). To access a value by position, use `ser.iloc[pos]`\n",
      "  company = df['company'][0]\n",
      "C:\\Users\\carre\\AppData\\Local\\Temp\\ipykernel_13444\\2423473215.py:21: FutureWarning: Series.__getitem__ treating keys as positions is deprecated. In a future version, integer keys will always be treated as labels (consistent with DataFrame behavior). To access a value by position, use `ser.iloc[pos]`\n",
      "  informe = df['informe'][0]\n"
     ]
    },
    {
     "name": "stdout",
     "output_type": "stream",
     "text": [
      "caterpillar procesado con éxito!\n",
      "Procesando ford-motor-co...\n",
      "exito al procesar!\n"
     ]
    },
    {
     "name": "stderr",
     "output_type": "stream",
     "text": [
      "C:\\Users\\carre\\AppData\\Local\\Temp\\ipykernel_13444\\2423473215.py:20: FutureWarning: Series.__getitem__ treating keys as positions is deprecated. In a future version, integer keys will always be treated as labels (consistent with DataFrame behavior). To access a value by position, use `ser.iloc[pos]`\n",
      "  company = df['company'][0]\n",
      "C:\\Users\\carre\\AppData\\Local\\Temp\\ipykernel_13444\\2423473215.py:21: FutureWarning: Series.__getitem__ treating keys as positions is deprecated. In a future version, integer keys will always be treated as labels (consistent with DataFrame behavior). To access a value by position, use `ser.iloc[pos]`\n",
      "  informe = df['informe'][0]\n",
      "C:\\Users\\carre\\AppData\\Local\\Temp\\ipykernel_13444\\2423473215.py:20: FutureWarning: Series.__getitem__ treating keys as positions is deprecated. In a future version, integer keys will always be treated as labels (consistent with DataFrame behavior). To access a value by position, use `ser.iloc[pos]`\n",
      "  company = df['company'][0]\n",
      "C:\\Users\\carre\\AppData\\Local\\Temp\\ipykernel_13444\\2423473215.py:21: FutureWarning: Series.__getitem__ treating keys as positions is deprecated. In a future version, integer keys will always be treated as labels (consistent with DataFrame behavior). To access a value by position, use `ser.iloc[pos]`\n",
      "  informe = df['informe'][0]\n",
      "C:\\Users\\carre\\AppData\\Local\\Temp\\ipykernel_13444\\2423473215.py:20: FutureWarning: Series.__getitem__ treating keys as positions is deprecated. In a future version, integer keys will always be treated as labels (consistent with DataFrame behavior). To access a value by position, use `ser.iloc[pos]`\n",
      "  company = df['company'][0]\n",
      "C:\\Users\\carre\\AppData\\Local\\Temp\\ipykernel_13444\\2423473215.py:21: FutureWarning: Series.__getitem__ treating keys as positions is deprecated. In a future version, integer keys will always be treated as labels (consistent with DataFrame behavior). To access a value by position, use `ser.iloc[pos]`\n",
      "  informe = df['informe'][0]\n",
      "C:\\Users\\carre\\AppData\\Local\\Temp\\ipykernel_13444\\2423473215.py:20: FutureWarning: Series.__getitem__ treating keys as positions is deprecated. In a future version, integer keys will always be treated as labels (consistent with DataFrame behavior). To access a value by position, use `ser.iloc[pos]`\n",
      "  company = df['company'][0]\n",
      "C:\\Users\\carre\\AppData\\Local\\Temp\\ipykernel_13444\\2423473215.py:21: FutureWarning: Series.__getitem__ treating keys as positions is deprecated. In a future version, integer keys will always be treated as labels (consistent with DataFrame behavior). To access a value by position, use `ser.iloc[pos]`\n",
      "  informe = df['informe'][0]\n",
      "C:\\Users\\carre\\AppData\\Local\\Temp\\ipykernel_13444\\2423473215.py:20: FutureWarning: Series.__getitem__ treating keys as positions is deprecated. In a future version, integer keys will always be treated as labels (consistent with DataFrame behavior). To access a value by position, use `ser.iloc[pos]`\n",
      "  company = df['company'][0]\n",
      "C:\\Users\\carre\\AppData\\Local\\Temp\\ipykernel_13444\\2423473215.py:21: FutureWarning: Series.__getitem__ treating keys as positions is deprecated. In a future version, integer keys will always be treated as labels (consistent with DataFrame behavior). To access a value by position, use `ser.iloc[pos]`\n",
      "  informe = df['informe'][0]\n"
     ]
    },
    {
     "name": "stdout",
     "output_type": "stream",
     "text": [
      "exito al procesar!\n"
     ]
    },
    {
     "name": "stderr",
     "output_type": "stream",
     "text": [
      "C:\\Users\\carre\\AppData\\Local\\Temp\\ipykernel_13444\\2423473215.py:20: FutureWarning: Series.__getitem__ treating keys as positions is deprecated. In a future version, integer keys will always be treated as labels (consistent with DataFrame behavior). To access a value by position, use `ser.iloc[pos]`\n",
      "  company = df['company'][0]\n",
      "C:\\Users\\carre\\AppData\\Local\\Temp\\ipykernel_13444\\2423473215.py:21: FutureWarning: Series.__getitem__ treating keys as positions is deprecated. In a future version, integer keys will always be treated as labels (consistent with DataFrame behavior). To access a value by position, use `ser.iloc[pos]`\n",
      "  informe = df['informe'][0]\n",
      "C:\\Users\\carre\\AppData\\Local\\Temp\\ipykernel_13444\\2423473215.py:20: FutureWarning: Series.__getitem__ treating keys as positions is deprecated. In a future version, integer keys will always be treated as labels (consistent with DataFrame behavior). To access a value by position, use `ser.iloc[pos]`\n",
      "  company = df['company'][0]\n",
      "C:\\Users\\carre\\AppData\\Local\\Temp\\ipykernel_13444\\2423473215.py:21: FutureWarning: Series.__getitem__ treating keys as positions is deprecated. In a future version, integer keys will always be treated as labels (consistent with DataFrame behavior). To access a value by position, use `ser.iloc[pos]`\n",
      "  informe = df['informe'][0]\n",
      "C:\\Users\\carre\\AppData\\Local\\Temp\\ipykernel_13444\\2423473215.py:20: FutureWarning: Series.__getitem__ treating keys as positions is deprecated. In a future version, integer keys will always be treated as labels (consistent with DataFrame behavior). To access a value by position, use `ser.iloc[pos]`\n",
      "  company = df['company'][0]\n",
      "C:\\Users\\carre\\AppData\\Local\\Temp\\ipykernel_13444\\2423473215.py:21: FutureWarning: Series.__getitem__ treating keys as positions is deprecated. In a future version, integer keys will always be treated as labels (consistent with DataFrame behavior). To access a value by position, use `ser.iloc[pos]`\n",
      "  informe = df['informe'][0]\n",
      "C:\\Users\\carre\\AppData\\Local\\Temp\\ipykernel_13444\\2423473215.py:20: FutureWarning: Series.__getitem__ treating keys as positions is deprecated. In a future version, integer keys will always be treated as labels (consistent with DataFrame behavior). To access a value by position, use `ser.iloc[pos]`\n",
      "  company = df['company'][0]\n",
      "C:\\Users\\carre\\AppData\\Local\\Temp\\ipykernel_13444\\2423473215.py:21: FutureWarning: Series.__getitem__ treating keys as positions is deprecated. In a future version, integer keys will always be treated as labels (consistent with DataFrame behavior). To access a value by position, use `ser.iloc[pos]`\n",
      "  informe = df['informe'][0]\n",
      "C:\\Users\\carre\\AppData\\Local\\Temp\\ipykernel_13444\\2423473215.py:20: FutureWarning: Series.__getitem__ treating keys as positions is deprecated. In a future version, integer keys will always be treated as labels (consistent with DataFrame behavior). To access a value by position, use `ser.iloc[pos]`\n",
      "  company = df['company'][0]\n",
      "C:\\Users\\carre\\AppData\\Local\\Temp\\ipykernel_13444\\2423473215.py:21: FutureWarning: Series.__getitem__ treating keys as positions is deprecated. In a future version, integer keys will always be treated as labels (consistent with DataFrame behavior). To access a value by position, use `ser.iloc[pos]`\n",
      "  informe = df['informe'][0]\n"
     ]
    },
    {
     "name": "stdout",
     "output_type": "stream",
     "text": [
      "ford-motor-co procesado con éxito!\n",
      "Procesando deere---co...\n",
      "exito al procesar!\n"
     ]
    },
    {
     "name": "stderr",
     "output_type": "stream",
     "text": [
      "C:\\Users\\carre\\AppData\\Local\\Temp\\ipykernel_13444\\2423473215.py:20: FutureWarning: Series.__getitem__ treating keys as positions is deprecated. In a future version, integer keys will always be treated as labels (consistent with DataFrame behavior). To access a value by position, use `ser.iloc[pos]`\n",
      "  company = df['company'][0]\n",
      "C:\\Users\\carre\\AppData\\Local\\Temp\\ipykernel_13444\\2423473215.py:21: FutureWarning: Series.__getitem__ treating keys as positions is deprecated. In a future version, integer keys will always be treated as labels (consistent with DataFrame behavior). To access a value by position, use `ser.iloc[pos]`\n",
      "  informe = df['informe'][0]\n",
      "C:\\Users\\carre\\AppData\\Local\\Temp\\ipykernel_13444\\2423473215.py:20: FutureWarning: Series.__getitem__ treating keys as positions is deprecated. In a future version, integer keys will always be treated as labels (consistent with DataFrame behavior). To access a value by position, use `ser.iloc[pos]`\n",
      "  company = df['company'][0]\n",
      "C:\\Users\\carre\\AppData\\Local\\Temp\\ipykernel_13444\\2423473215.py:21: FutureWarning: Series.__getitem__ treating keys as positions is deprecated. In a future version, integer keys will always be treated as labels (consistent with DataFrame behavior). To access a value by position, use `ser.iloc[pos]`\n",
      "  informe = df['informe'][0]\n",
      "C:\\Users\\carre\\AppData\\Local\\Temp\\ipykernel_13444\\2423473215.py:20: FutureWarning: Series.__getitem__ treating keys as positions is deprecated. In a future version, integer keys will always be treated as labels (consistent with DataFrame behavior). To access a value by position, use `ser.iloc[pos]`\n",
      "  company = df['company'][0]\n",
      "C:\\Users\\carre\\AppData\\Local\\Temp\\ipykernel_13444\\2423473215.py:21: FutureWarning: Series.__getitem__ treating keys as positions is deprecated. In a future version, integer keys will always be treated as labels (consistent with DataFrame behavior). To access a value by position, use `ser.iloc[pos]`\n",
      "  informe = df['informe'][0]\n",
      "C:\\Users\\carre\\AppData\\Local\\Temp\\ipykernel_13444\\2423473215.py:20: FutureWarning: Series.__getitem__ treating keys as positions is deprecated. In a future version, integer keys will always be treated as labels (consistent with DataFrame behavior). To access a value by position, use `ser.iloc[pos]`\n",
      "  company = df['company'][0]\n",
      "C:\\Users\\carre\\AppData\\Local\\Temp\\ipykernel_13444\\2423473215.py:21: FutureWarning: Series.__getitem__ treating keys as positions is deprecated. In a future version, integer keys will always be treated as labels (consistent with DataFrame behavior). To access a value by position, use `ser.iloc[pos]`\n",
      "  informe = df['informe'][0]\n",
      "C:\\Users\\carre\\AppData\\Local\\Temp\\ipykernel_13444\\2423473215.py:20: FutureWarning: Series.__getitem__ treating keys as positions is deprecated. In a future version, integer keys will always be treated as labels (consistent with DataFrame behavior). To access a value by position, use `ser.iloc[pos]`\n",
      "  company = df['company'][0]\n",
      "C:\\Users\\carre\\AppData\\Local\\Temp\\ipykernel_13444\\2423473215.py:21: FutureWarning: Series.__getitem__ treating keys as positions is deprecated. In a future version, integer keys will always be treated as labels (consistent with DataFrame behavior). To access a value by position, use `ser.iloc[pos]`\n",
      "  informe = df['informe'][0]\n"
     ]
    },
    {
     "name": "stdout",
     "output_type": "stream",
     "text": [
      "exito al procesar!\n"
     ]
    },
    {
     "name": "stderr",
     "output_type": "stream",
     "text": [
      "C:\\Users\\carre\\AppData\\Local\\Temp\\ipykernel_13444\\2423473215.py:20: FutureWarning: Series.__getitem__ treating keys as positions is deprecated. In a future version, integer keys will always be treated as labels (consistent with DataFrame behavior). To access a value by position, use `ser.iloc[pos]`\n",
      "  company = df['company'][0]\n",
      "C:\\Users\\carre\\AppData\\Local\\Temp\\ipykernel_13444\\2423473215.py:21: FutureWarning: Series.__getitem__ treating keys as positions is deprecated. In a future version, integer keys will always be treated as labels (consistent with DataFrame behavior). To access a value by position, use `ser.iloc[pos]`\n",
      "  informe = df['informe'][0]\n",
      "C:\\Users\\carre\\AppData\\Local\\Temp\\ipykernel_13444\\2423473215.py:20: FutureWarning: Series.__getitem__ treating keys as positions is deprecated. In a future version, integer keys will always be treated as labels (consistent with DataFrame behavior). To access a value by position, use `ser.iloc[pos]`\n",
      "  company = df['company'][0]\n",
      "C:\\Users\\carre\\AppData\\Local\\Temp\\ipykernel_13444\\2423473215.py:21: FutureWarning: Series.__getitem__ treating keys as positions is deprecated. In a future version, integer keys will always be treated as labels (consistent with DataFrame behavior). To access a value by position, use `ser.iloc[pos]`\n",
      "  informe = df['informe'][0]\n",
      "C:\\Users\\carre\\AppData\\Local\\Temp\\ipykernel_13444\\2423473215.py:20: FutureWarning: Series.__getitem__ treating keys as positions is deprecated. In a future version, integer keys will always be treated as labels (consistent with DataFrame behavior). To access a value by position, use `ser.iloc[pos]`\n",
      "  company = df['company'][0]\n",
      "C:\\Users\\carre\\AppData\\Local\\Temp\\ipykernel_13444\\2423473215.py:21: FutureWarning: Series.__getitem__ treating keys as positions is deprecated. In a future version, integer keys will always be treated as labels (consistent with DataFrame behavior). To access a value by position, use `ser.iloc[pos]`\n",
      "  informe = df['informe'][0]\n",
      "C:\\Users\\carre\\AppData\\Local\\Temp\\ipykernel_13444\\2423473215.py:20: FutureWarning: Series.__getitem__ treating keys as positions is deprecated. In a future version, integer keys will always be treated as labels (consistent with DataFrame behavior). To access a value by position, use `ser.iloc[pos]`\n",
      "  company = df['company'][0]\n",
      "C:\\Users\\carre\\AppData\\Local\\Temp\\ipykernel_13444\\2423473215.py:21: FutureWarning: Series.__getitem__ treating keys as positions is deprecated. In a future version, integer keys will always be treated as labels (consistent with DataFrame behavior). To access a value by position, use `ser.iloc[pos]`\n",
      "  informe = df['informe'][0]\n",
      "C:\\Users\\carre\\AppData\\Local\\Temp\\ipykernel_13444\\2423473215.py:20: FutureWarning: Series.__getitem__ treating keys as positions is deprecated. In a future version, integer keys will always be treated as labels (consistent with DataFrame behavior). To access a value by position, use `ser.iloc[pos]`\n",
      "  company = df['company'][0]\n",
      "C:\\Users\\carre\\AppData\\Local\\Temp\\ipykernel_13444\\2423473215.py:21: FutureWarning: Series.__getitem__ treating keys as positions is deprecated. In a future version, integer keys will always be treated as labels (consistent with DataFrame behavior). To access a value by position, use `ser.iloc[pos]`\n",
      "  informe = df['informe'][0]\n"
     ]
    },
    {
     "name": "stdout",
     "output_type": "stream",
     "text": [
      "deere---co procesado con éxito!\n",
      "Procesando delta-air-lines-new...\n",
      "exito al procesar!\n"
     ]
    },
    {
     "name": "stderr",
     "output_type": "stream",
     "text": [
      "C:\\Users\\carre\\AppData\\Local\\Temp\\ipykernel_13444\\2423473215.py:20: FutureWarning: Series.__getitem__ treating keys as positions is deprecated. In a future version, integer keys will always be treated as labels (consistent with DataFrame behavior). To access a value by position, use `ser.iloc[pos]`\n",
      "  company = df['company'][0]\n",
      "C:\\Users\\carre\\AppData\\Local\\Temp\\ipykernel_13444\\2423473215.py:21: FutureWarning: Series.__getitem__ treating keys as positions is deprecated. In a future version, integer keys will always be treated as labels (consistent with DataFrame behavior). To access a value by position, use `ser.iloc[pos]`\n",
      "  informe = df['informe'][0]\n",
      "C:\\Users\\carre\\AppData\\Local\\Temp\\ipykernel_13444\\2423473215.py:20: FutureWarning: Series.__getitem__ treating keys as positions is deprecated. In a future version, integer keys will always be treated as labels (consistent with DataFrame behavior). To access a value by position, use `ser.iloc[pos]`\n",
      "  company = df['company'][0]\n",
      "C:\\Users\\carre\\AppData\\Local\\Temp\\ipykernel_13444\\2423473215.py:21: FutureWarning: Series.__getitem__ treating keys as positions is deprecated. In a future version, integer keys will always be treated as labels (consistent with DataFrame behavior). To access a value by position, use `ser.iloc[pos]`\n",
      "  informe = df['informe'][0]\n",
      "C:\\Users\\carre\\AppData\\Local\\Temp\\ipykernel_13444\\2423473215.py:20: FutureWarning: Series.__getitem__ treating keys as positions is deprecated. In a future version, integer keys will always be treated as labels (consistent with DataFrame behavior). To access a value by position, use `ser.iloc[pos]`\n",
      "  company = df['company'][0]\n",
      "C:\\Users\\carre\\AppData\\Local\\Temp\\ipykernel_13444\\2423473215.py:21: FutureWarning: Series.__getitem__ treating keys as positions is deprecated. In a future version, integer keys will always be treated as labels (consistent with DataFrame behavior). To access a value by position, use `ser.iloc[pos]`\n",
      "  informe = df['informe'][0]\n",
      "C:\\Users\\carre\\AppData\\Local\\Temp\\ipykernel_13444\\2423473215.py:20: FutureWarning: Series.__getitem__ treating keys as positions is deprecated. In a future version, integer keys will always be treated as labels (consistent with DataFrame behavior). To access a value by position, use `ser.iloc[pos]`\n",
      "  company = df['company'][0]\n",
      "C:\\Users\\carre\\AppData\\Local\\Temp\\ipykernel_13444\\2423473215.py:21: FutureWarning: Series.__getitem__ treating keys as positions is deprecated. In a future version, integer keys will always be treated as labels (consistent with DataFrame behavior). To access a value by position, use `ser.iloc[pos]`\n",
      "  informe = df['informe'][0]\n",
      "C:\\Users\\carre\\AppData\\Local\\Temp\\ipykernel_13444\\2423473215.py:20: FutureWarning: Series.__getitem__ treating keys as positions is deprecated. In a future version, integer keys will always be treated as labels (consistent with DataFrame behavior). To access a value by position, use `ser.iloc[pos]`\n",
      "  company = df['company'][0]\n",
      "C:\\Users\\carre\\AppData\\Local\\Temp\\ipykernel_13444\\2423473215.py:21: FutureWarning: Series.__getitem__ treating keys as positions is deprecated. In a future version, integer keys will always be treated as labels (consistent with DataFrame behavior). To access a value by position, use `ser.iloc[pos]`\n",
      "  informe = df['informe'][0]\n"
     ]
    },
    {
     "name": "stdout",
     "output_type": "stream",
     "text": [
      "exito al procesar!\n"
     ]
    },
    {
     "name": "stderr",
     "output_type": "stream",
     "text": [
      "C:\\Users\\carre\\AppData\\Local\\Temp\\ipykernel_13444\\2423473215.py:20: FutureWarning: Series.__getitem__ treating keys as positions is deprecated. In a future version, integer keys will always be treated as labels (consistent with DataFrame behavior). To access a value by position, use `ser.iloc[pos]`\n",
      "  company = df['company'][0]\n",
      "C:\\Users\\carre\\AppData\\Local\\Temp\\ipykernel_13444\\2423473215.py:21: FutureWarning: Series.__getitem__ treating keys as positions is deprecated. In a future version, integer keys will always be treated as labels (consistent with DataFrame behavior). To access a value by position, use `ser.iloc[pos]`\n",
      "  informe = df['informe'][0]\n",
      "C:\\Users\\carre\\AppData\\Local\\Temp\\ipykernel_13444\\2423473215.py:20: FutureWarning: Series.__getitem__ treating keys as positions is deprecated. In a future version, integer keys will always be treated as labels (consistent with DataFrame behavior). To access a value by position, use `ser.iloc[pos]`\n",
      "  company = df['company'][0]\n",
      "C:\\Users\\carre\\AppData\\Local\\Temp\\ipykernel_13444\\2423473215.py:21: FutureWarning: Series.__getitem__ treating keys as positions is deprecated. In a future version, integer keys will always be treated as labels (consistent with DataFrame behavior). To access a value by position, use `ser.iloc[pos]`\n",
      "  informe = df['informe'][0]\n",
      "C:\\Users\\carre\\AppData\\Local\\Temp\\ipykernel_13444\\2423473215.py:20: FutureWarning: Series.__getitem__ treating keys as positions is deprecated. In a future version, integer keys will always be treated as labels (consistent with DataFrame behavior). To access a value by position, use `ser.iloc[pos]`\n",
      "  company = df['company'][0]\n",
      "C:\\Users\\carre\\AppData\\Local\\Temp\\ipykernel_13444\\2423473215.py:21: FutureWarning: Series.__getitem__ treating keys as positions is deprecated. In a future version, integer keys will always be treated as labels (consistent with DataFrame behavior). To access a value by position, use `ser.iloc[pos]`\n",
      "  informe = df['informe'][0]\n",
      "C:\\Users\\carre\\AppData\\Local\\Temp\\ipykernel_13444\\2423473215.py:20: FutureWarning: Series.__getitem__ treating keys as positions is deprecated. In a future version, integer keys will always be treated as labels (consistent with DataFrame behavior). To access a value by position, use `ser.iloc[pos]`\n",
      "  company = df['company'][0]\n",
      "C:\\Users\\carre\\AppData\\Local\\Temp\\ipykernel_13444\\2423473215.py:21: FutureWarning: Series.__getitem__ treating keys as positions is deprecated. In a future version, integer keys will always be treated as labels (consistent with DataFrame behavior). To access a value by position, use `ser.iloc[pos]`\n",
      "  informe = df['informe'][0]\n",
      "C:\\Users\\carre\\AppData\\Local\\Temp\\ipykernel_13444\\2423473215.py:20: FutureWarning: Series.__getitem__ treating keys as positions is deprecated. In a future version, integer keys will always be treated as labels (consistent with DataFrame behavior). To access a value by position, use `ser.iloc[pos]`\n",
      "  company = df['company'][0]\n",
      "C:\\Users\\carre\\AppData\\Local\\Temp\\ipykernel_13444\\2423473215.py:21: FutureWarning: Series.__getitem__ treating keys as positions is deprecated. In a future version, integer keys will always be treated as labels (consistent with DataFrame behavior). To access a value by position, use `ser.iloc[pos]`\n",
      "  informe = df['informe'][0]\n"
     ]
    },
    {
     "name": "stdout",
     "output_type": "stream",
     "text": [
      "delta-air-lines-new procesado con éxito!\n",
      "Procesando boeing-co...\n",
      "exito al procesar!\n"
     ]
    },
    {
     "name": "stderr",
     "output_type": "stream",
     "text": [
      "C:\\Users\\carre\\AppData\\Local\\Temp\\ipykernel_13444\\2423473215.py:20: FutureWarning: Series.__getitem__ treating keys as positions is deprecated. In a future version, integer keys will always be treated as labels (consistent with DataFrame behavior). To access a value by position, use `ser.iloc[pos]`\n",
      "  company = df['company'][0]\n",
      "C:\\Users\\carre\\AppData\\Local\\Temp\\ipykernel_13444\\2423473215.py:21: FutureWarning: Series.__getitem__ treating keys as positions is deprecated. In a future version, integer keys will always be treated as labels (consistent with DataFrame behavior). To access a value by position, use `ser.iloc[pos]`\n",
      "  informe = df['informe'][0]\n",
      "C:\\Users\\carre\\AppData\\Local\\Temp\\ipykernel_13444\\2423473215.py:20: FutureWarning: Series.__getitem__ treating keys as positions is deprecated. In a future version, integer keys will always be treated as labels (consistent with DataFrame behavior). To access a value by position, use `ser.iloc[pos]`\n",
      "  company = df['company'][0]\n",
      "C:\\Users\\carre\\AppData\\Local\\Temp\\ipykernel_13444\\2423473215.py:21: FutureWarning: Series.__getitem__ treating keys as positions is deprecated. In a future version, integer keys will always be treated as labels (consistent with DataFrame behavior). To access a value by position, use `ser.iloc[pos]`\n",
      "  informe = df['informe'][0]\n",
      "C:\\Users\\carre\\AppData\\Local\\Temp\\ipykernel_13444\\2423473215.py:20: FutureWarning: Series.__getitem__ treating keys as positions is deprecated. In a future version, integer keys will always be treated as labels (consistent with DataFrame behavior). To access a value by position, use `ser.iloc[pos]`\n",
      "  company = df['company'][0]\n",
      "C:\\Users\\carre\\AppData\\Local\\Temp\\ipykernel_13444\\2423473215.py:21: FutureWarning: Series.__getitem__ treating keys as positions is deprecated. In a future version, integer keys will always be treated as labels (consistent with DataFrame behavior). To access a value by position, use `ser.iloc[pos]`\n",
      "  informe = df['informe'][0]\n",
      "C:\\Users\\carre\\AppData\\Local\\Temp\\ipykernel_13444\\2423473215.py:20: FutureWarning: Series.__getitem__ treating keys as positions is deprecated. In a future version, integer keys will always be treated as labels (consistent with DataFrame behavior). To access a value by position, use `ser.iloc[pos]`\n",
      "  company = df['company'][0]\n",
      "C:\\Users\\carre\\AppData\\Local\\Temp\\ipykernel_13444\\2423473215.py:21: FutureWarning: Series.__getitem__ treating keys as positions is deprecated. In a future version, integer keys will always be treated as labels (consistent with DataFrame behavior). To access a value by position, use `ser.iloc[pos]`\n",
      "  informe = df['informe'][0]\n",
      "C:\\Users\\carre\\AppData\\Local\\Temp\\ipykernel_13444\\2423473215.py:20: FutureWarning: Series.__getitem__ treating keys as positions is deprecated. In a future version, integer keys will always be treated as labels (consistent with DataFrame behavior). To access a value by position, use `ser.iloc[pos]`\n",
      "  company = df['company'][0]\n",
      "C:\\Users\\carre\\AppData\\Local\\Temp\\ipykernel_13444\\2423473215.py:21: FutureWarning: Series.__getitem__ treating keys as positions is deprecated. In a future version, integer keys will always be treated as labels (consistent with DataFrame behavior). To access a value by position, use `ser.iloc[pos]`\n",
      "  informe = df['informe'][0]\n"
     ]
    },
    {
     "name": "stdout",
     "output_type": "stream",
     "text": [
      "exito al procesar!\n"
     ]
    },
    {
     "name": "stderr",
     "output_type": "stream",
     "text": [
      "C:\\Users\\carre\\AppData\\Local\\Temp\\ipykernel_13444\\2423473215.py:20: FutureWarning: Series.__getitem__ treating keys as positions is deprecated. In a future version, integer keys will always be treated as labels (consistent with DataFrame behavior). To access a value by position, use `ser.iloc[pos]`\n",
      "  company = df['company'][0]\n",
      "C:\\Users\\carre\\AppData\\Local\\Temp\\ipykernel_13444\\2423473215.py:21: FutureWarning: Series.__getitem__ treating keys as positions is deprecated. In a future version, integer keys will always be treated as labels (consistent with DataFrame behavior). To access a value by position, use `ser.iloc[pos]`\n",
      "  informe = df['informe'][0]\n",
      "C:\\Users\\carre\\AppData\\Local\\Temp\\ipykernel_13444\\2423473215.py:20: FutureWarning: Series.__getitem__ treating keys as positions is deprecated. In a future version, integer keys will always be treated as labels (consistent with DataFrame behavior). To access a value by position, use `ser.iloc[pos]`\n",
      "  company = df['company'][0]\n",
      "C:\\Users\\carre\\AppData\\Local\\Temp\\ipykernel_13444\\2423473215.py:21: FutureWarning: Series.__getitem__ treating keys as positions is deprecated. In a future version, integer keys will always be treated as labels (consistent with DataFrame behavior). To access a value by position, use `ser.iloc[pos]`\n",
      "  informe = df['informe'][0]\n",
      "C:\\Users\\carre\\AppData\\Local\\Temp\\ipykernel_13444\\2423473215.py:20: FutureWarning: Series.__getitem__ treating keys as positions is deprecated. In a future version, integer keys will always be treated as labels (consistent with DataFrame behavior). To access a value by position, use `ser.iloc[pos]`\n",
      "  company = df['company'][0]\n",
      "C:\\Users\\carre\\AppData\\Local\\Temp\\ipykernel_13444\\2423473215.py:21: FutureWarning: Series.__getitem__ treating keys as positions is deprecated. In a future version, integer keys will always be treated as labels (consistent with DataFrame behavior). To access a value by position, use `ser.iloc[pos]`\n",
      "  informe = df['informe'][0]\n",
      "C:\\Users\\carre\\AppData\\Local\\Temp\\ipykernel_13444\\2423473215.py:20: FutureWarning: Series.__getitem__ treating keys as positions is deprecated. In a future version, integer keys will always be treated as labels (consistent with DataFrame behavior). To access a value by position, use `ser.iloc[pos]`\n",
      "  company = df['company'][0]\n",
      "C:\\Users\\carre\\AppData\\Local\\Temp\\ipykernel_13444\\2423473215.py:21: FutureWarning: Series.__getitem__ treating keys as positions is deprecated. In a future version, integer keys will always be treated as labels (consistent with DataFrame behavior). To access a value by position, use `ser.iloc[pos]`\n",
      "  informe = df['informe'][0]\n",
      "C:\\Users\\carre\\AppData\\Local\\Temp\\ipykernel_13444\\2423473215.py:20: FutureWarning: Series.__getitem__ treating keys as positions is deprecated. In a future version, integer keys will always be treated as labels (consistent with DataFrame behavior). To access a value by position, use `ser.iloc[pos]`\n",
      "  company = df['company'][0]\n",
      "C:\\Users\\carre\\AppData\\Local\\Temp\\ipykernel_13444\\2423473215.py:21: FutureWarning: Series.__getitem__ treating keys as positions is deprecated. In a future version, integer keys will always be treated as labels (consistent with DataFrame behavior). To access a value by position, use `ser.iloc[pos]`\n",
      "  informe = df['informe'][0]\n"
     ]
    },
    {
     "name": "stdout",
     "output_type": "stream",
     "text": [
      "boeing-co procesado con éxito!\n",
      "Procesando at-t...\n",
      "exito al procesar!\n"
     ]
    },
    {
     "name": "stderr",
     "output_type": "stream",
     "text": [
      "C:\\Users\\carre\\AppData\\Local\\Temp\\ipykernel_13444\\2423473215.py:20: FutureWarning: Series.__getitem__ treating keys as positions is deprecated. In a future version, integer keys will always be treated as labels (consistent with DataFrame behavior). To access a value by position, use `ser.iloc[pos]`\n",
      "  company = df['company'][0]\n",
      "C:\\Users\\carre\\AppData\\Local\\Temp\\ipykernel_13444\\2423473215.py:21: FutureWarning: Series.__getitem__ treating keys as positions is deprecated. In a future version, integer keys will always be treated as labels (consistent with DataFrame behavior). To access a value by position, use `ser.iloc[pos]`\n",
      "  informe = df['informe'][0]\n",
      "C:\\Users\\carre\\AppData\\Local\\Temp\\ipykernel_13444\\2423473215.py:20: FutureWarning: Series.__getitem__ treating keys as positions is deprecated. In a future version, integer keys will always be treated as labels (consistent with DataFrame behavior). To access a value by position, use `ser.iloc[pos]`\n",
      "  company = df['company'][0]\n",
      "C:\\Users\\carre\\AppData\\Local\\Temp\\ipykernel_13444\\2423473215.py:21: FutureWarning: Series.__getitem__ treating keys as positions is deprecated. In a future version, integer keys will always be treated as labels (consistent with DataFrame behavior). To access a value by position, use `ser.iloc[pos]`\n",
      "  informe = df['informe'][0]\n",
      "C:\\Users\\carre\\AppData\\Local\\Temp\\ipykernel_13444\\2423473215.py:20: FutureWarning: Series.__getitem__ treating keys as positions is deprecated. In a future version, integer keys will always be treated as labels (consistent with DataFrame behavior). To access a value by position, use `ser.iloc[pos]`\n",
      "  company = df['company'][0]\n",
      "C:\\Users\\carre\\AppData\\Local\\Temp\\ipykernel_13444\\2423473215.py:21: FutureWarning: Series.__getitem__ treating keys as positions is deprecated. In a future version, integer keys will always be treated as labels (consistent with DataFrame behavior). To access a value by position, use `ser.iloc[pos]`\n",
      "  informe = df['informe'][0]\n",
      "C:\\Users\\carre\\AppData\\Local\\Temp\\ipykernel_13444\\2423473215.py:20: FutureWarning: Series.__getitem__ treating keys as positions is deprecated. In a future version, integer keys will always be treated as labels (consistent with DataFrame behavior). To access a value by position, use `ser.iloc[pos]`\n",
      "  company = df['company'][0]\n",
      "C:\\Users\\carre\\AppData\\Local\\Temp\\ipykernel_13444\\2423473215.py:21: FutureWarning: Series.__getitem__ treating keys as positions is deprecated. In a future version, integer keys will always be treated as labels (consistent with DataFrame behavior). To access a value by position, use `ser.iloc[pos]`\n",
      "  informe = df['informe'][0]\n",
      "C:\\Users\\carre\\AppData\\Local\\Temp\\ipykernel_13444\\2423473215.py:20: FutureWarning: Series.__getitem__ treating keys as positions is deprecated. In a future version, integer keys will always be treated as labels (consistent with DataFrame behavior). To access a value by position, use `ser.iloc[pos]`\n",
      "  company = df['company'][0]\n",
      "C:\\Users\\carre\\AppData\\Local\\Temp\\ipykernel_13444\\2423473215.py:21: FutureWarning: Series.__getitem__ treating keys as positions is deprecated. In a future version, integer keys will always be treated as labels (consistent with DataFrame behavior). To access a value by position, use `ser.iloc[pos]`\n",
      "  informe = df['informe'][0]\n"
     ]
    },
    {
     "name": "stdout",
     "output_type": "stream",
     "text": [
      "exito al procesar!\n"
     ]
    },
    {
     "name": "stderr",
     "output_type": "stream",
     "text": [
      "C:\\Users\\carre\\AppData\\Local\\Temp\\ipykernel_13444\\2423473215.py:20: FutureWarning: Series.__getitem__ treating keys as positions is deprecated. In a future version, integer keys will always be treated as labels (consistent with DataFrame behavior). To access a value by position, use `ser.iloc[pos]`\n",
      "  company = df['company'][0]\n",
      "C:\\Users\\carre\\AppData\\Local\\Temp\\ipykernel_13444\\2423473215.py:21: FutureWarning: Series.__getitem__ treating keys as positions is deprecated. In a future version, integer keys will always be treated as labels (consistent with DataFrame behavior). To access a value by position, use `ser.iloc[pos]`\n",
      "  informe = df['informe'][0]\n",
      "C:\\Users\\carre\\AppData\\Local\\Temp\\ipykernel_13444\\2423473215.py:20: FutureWarning: Series.__getitem__ treating keys as positions is deprecated. In a future version, integer keys will always be treated as labels (consistent with DataFrame behavior). To access a value by position, use `ser.iloc[pos]`\n",
      "  company = df['company'][0]\n",
      "C:\\Users\\carre\\AppData\\Local\\Temp\\ipykernel_13444\\2423473215.py:21: FutureWarning: Series.__getitem__ treating keys as positions is deprecated. In a future version, integer keys will always be treated as labels (consistent with DataFrame behavior). To access a value by position, use `ser.iloc[pos]`\n",
      "  informe = df['informe'][0]\n",
      "C:\\Users\\carre\\AppData\\Local\\Temp\\ipykernel_13444\\2423473215.py:20: FutureWarning: Series.__getitem__ treating keys as positions is deprecated. In a future version, integer keys will always be treated as labels (consistent with DataFrame behavior). To access a value by position, use `ser.iloc[pos]`\n",
      "  company = df['company'][0]\n",
      "C:\\Users\\carre\\AppData\\Local\\Temp\\ipykernel_13444\\2423473215.py:21: FutureWarning: Series.__getitem__ treating keys as positions is deprecated. In a future version, integer keys will always be treated as labels (consistent with DataFrame behavior). To access a value by position, use `ser.iloc[pos]`\n",
      "  informe = df['informe'][0]\n",
      "C:\\Users\\carre\\AppData\\Local\\Temp\\ipykernel_13444\\2423473215.py:20: FutureWarning: Series.__getitem__ treating keys as positions is deprecated. In a future version, integer keys will always be treated as labels (consistent with DataFrame behavior). To access a value by position, use `ser.iloc[pos]`\n",
      "  company = df['company'][0]\n",
      "C:\\Users\\carre\\AppData\\Local\\Temp\\ipykernel_13444\\2423473215.py:21: FutureWarning: Series.__getitem__ treating keys as positions is deprecated. In a future version, integer keys will always be treated as labels (consistent with DataFrame behavior). To access a value by position, use `ser.iloc[pos]`\n",
      "  informe = df['informe'][0]\n",
      "C:\\Users\\carre\\AppData\\Local\\Temp\\ipykernel_13444\\2423473215.py:20: FutureWarning: Series.__getitem__ treating keys as positions is deprecated. In a future version, integer keys will always be treated as labels (consistent with DataFrame behavior). To access a value by position, use `ser.iloc[pos]`\n",
      "  company = df['company'][0]\n",
      "C:\\Users\\carre\\AppData\\Local\\Temp\\ipykernel_13444\\2423473215.py:21: FutureWarning: Series.__getitem__ treating keys as positions is deprecated. In a future version, integer keys will always be treated as labels (consistent with DataFrame behavior). To access a value by position, use `ser.iloc[pos]`\n",
      "  informe = df['informe'][0]\n"
     ]
    },
    {
     "name": "stdout",
     "output_type": "stream",
     "text": [
      "at-t procesado con éxito!\n",
      "Procesando mcdonalds...\n",
      "exito al procesar!\n"
     ]
    },
    {
     "name": "stderr",
     "output_type": "stream",
     "text": [
      "C:\\Users\\carre\\AppData\\Local\\Temp\\ipykernel_13444\\2423473215.py:20: FutureWarning: Series.__getitem__ treating keys as positions is deprecated. In a future version, integer keys will always be treated as labels (consistent with DataFrame behavior). To access a value by position, use `ser.iloc[pos]`\n",
      "  company = df['company'][0]\n",
      "C:\\Users\\carre\\AppData\\Local\\Temp\\ipykernel_13444\\2423473215.py:21: FutureWarning: Series.__getitem__ treating keys as positions is deprecated. In a future version, integer keys will always be treated as labels (consistent with DataFrame behavior). To access a value by position, use `ser.iloc[pos]`\n",
      "  informe = df['informe'][0]\n",
      "C:\\Users\\carre\\AppData\\Local\\Temp\\ipykernel_13444\\2423473215.py:20: FutureWarning: Series.__getitem__ treating keys as positions is deprecated. In a future version, integer keys will always be treated as labels (consistent with DataFrame behavior). To access a value by position, use `ser.iloc[pos]`\n",
      "  company = df['company'][0]\n",
      "C:\\Users\\carre\\AppData\\Local\\Temp\\ipykernel_13444\\2423473215.py:21: FutureWarning: Series.__getitem__ treating keys as positions is deprecated. In a future version, integer keys will always be treated as labels (consistent with DataFrame behavior). To access a value by position, use `ser.iloc[pos]`\n",
      "  informe = df['informe'][0]\n",
      "C:\\Users\\carre\\AppData\\Local\\Temp\\ipykernel_13444\\2423473215.py:20: FutureWarning: Series.__getitem__ treating keys as positions is deprecated. In a future version, integer keys will always be treated as labels (consistent with DataFrame behavior). To access a value by position, use `ser.iloc[pos]`\n",
      "  company = df['company'][0]\n",
      "C:\\Users\\carre\\AppData\\Local\\Temp\\ipykernel_13444\\2423473215.py:21: FutureWarning: Series.__getitem__ treating keys as positions is deprecated. In a future version, integer keys will always be treated as labels (consistent with DataFrame behavior). To access a value by position, use `ser.iloc[pos]`\n",
      "  informe = df['informe'][0]\n",
      "C:\\Users\\carre\\AppData\\Local\\Temp\\ipykernel_13444\\2423473215.py:20: FutureWarning: Series.__getitem__ treating keys as positions is deprecated. In a future version, integer keys will always be treated as labels (consistent with DataFrame behavior). To access a value by position, use `ser.iloc[pos]`\n",
      "  company = df['company'][0]\n",
      "C:\\Users\\carre\\AppData\\Local\\Temp\\ipykernel_13444\\2423473215.py:21: FutureWarning: Series.__getitem__ treating keys as positions is deprecated. In a future version, integer keys will always be treated as labels (consistent with DataFrame behavior). To access a value by position, use `ser.iloc[pos]`\n",
      "  informe = df['informe'][0]\n",
      "C:\\Users\\carre\\AppData\\Local\\Temp\\ipykernel_13444\\2423473215.py:20: FutureWarning: Series.__getitem__ treating keys as positions is deprecated. In a future version, integer keys will always be treated as labels (consistent with DataFrame behavior). To access a value by position, use `ser.iloc[pos]`\n",
      "  company = df['company'][0]\n",
      "C:\\Users\\carre\\AppData\\Local\\Temp\\ipykernel_13444\\2423473215.py:21: FutureWarning: Series.__getitem__ treating keys as positions is deprecated. In a future version, integer keys will always be treated as labels (consistent with DataFrame behavior). To access a value by position, use `ser.iloc[pos]`\n",
      "  informe = df['informe'][0]\n"
     ]
    },
    {
     "name": "stdout",
     "output_type": "stream",
     "text": [
      "exito al procesar!\n"
     ]
    },
    {
     "name": "stderr",
     "output_type": "stream",
     "text": [
      "C:\\Users\\carre\\AppData\\Local\\Temp\\ipykernel_13444\\2423473215.py:20: FutureWarning: Series.__getitem__ treating keys as positions is deprecated. In a future version, integer keys will always be treated as labels (consistent with DataFrame behavior). To access a value by position, use `ser.iloc[pos]`\n",
      "  company = df['company'][0]\n",
      "C:\\Users\\carre\\AppData\\Local\\Temp\\ipykernel_13444\\2423473215.py:21: FutureWarning: Series.__getitem__ treating keys as positions is deprecated. In a future version, integer keys will always be treated as labels (consistent with DataFrame behavior). To access a value by position, use `ser.iloc[pos]`\n",
      "  informe = df['informe'][0]\n",
      "C:\\Users\\carre\\AppData\\Local\\Temp\\ipykernel_13444\\2423473215.py:20: FutureWarning: Series.__getitem__ treating keys as positions is deprecated. In a future version, integer keys will always be treated as labels (consistent with DataFrame behavior). To access a value by position, use `ser.iloc[pos]`\n",
      "  company = df['company'][0]\n",
      "C:\\Users\\carre\\AppData\\Local\\Temp\\ipykernel_13444\\2423473215.py:21: FutureWarning: Series.__getitem__ treating keys as positions is deprecated. In a future version, integer keys will always be treated as labels (consistent with DataFrame behavior). To access a value by position, use `ser.iloc[pos]`\n",
      "  informe = df['informe'][0]\n",
      "C:\\Users\\carre\\AppData\\Local\\Temp\\ipykernel_13444\\2423473215.py:20: FutureWarning: Series.__getitem__ treating keys as positions is deprecated. In a future version, integer keys will always be treated as labels (consistent with DataFrame behavior). To access a value by position, use `ser.iloc[pos]`\n",
      "  company = df['company'][0]\n",
      "C:\\Users\\carre\\AppData\\Local\\Temp\\ipykernel_13444\\2423473215.py:21: FutureWarning: Series.__getitem__ treating keys as positions is deprecated. In a future version, integer keys will always be treated as labels (consistent with DataFrame behavior). To access a value by position, use `ser.iloc[pos]`\n",
      "  informe = df['informe'][0]\n"
     ]
    },
    {
     "name": "stdout",
     "output_type": "stream",
     "text": [
      "mcdonalds procesado con éxito!\n"
     ]
    },
    {
     "name": "stderr",
     "output_type": "stream",
     "text": [
      "C:\\Users\\carre\\AppData\\Local\\Temp\\ipykernel_13444\\2423473215.py:20: FutureWarning: Series.__getitem__ treating keys as positions is deprecated. In a future version, integer keys will always be treated as labels (consistent with DataFrame behavior). To access a value by position, use `ser.iloc[pos]`\n",
      "  company = df['company'][0]\n",
      "C:\\Users\\carre\\AppData\\Local\\Temp\\ipykernel_13444\\2423473215.py:21: FutureWarning: Series.__getitem__ treating keys as positions is deprecated. In a future version, integer keys will always be treated as labels (consistent with DataFrame behavior). To access a value by position, use `ser.iloc[pos]`\n",
      "  informe = df['informe'][0]\n",
      "C:\\Users\\carre\\AppData\\Local\\Temp\\ipykernel_13444\\2423473215.py:20: FutureWarning: Series.__getitem__ treating keys as positions is deprecated. In a future version, integer keys will always be treated as labels (consistent with DataFrame behavior). To access a value by position, use `ser.iloc[pos]`\n",
      "  company = df['company'][0]\n",
      "C:\\Users\\carre\\AppData\\Local\\Temp\\ipykernel_13444\\2423473215.py:21: FutureWarning: Series.__getitem__ treating keys as positions is deprecated. In a future version, integer keys will always be treated as labels (consistent with DataFrame behavior). To access a value by position, use `ser.iloc[pos]`\n",
      "  informe = df['informe'][0]\n"
     ]
    }
   ],
   "source": [
    "for company in companies:\n",
    "    print(f\"Procesando {company}...\")\n",
    "    try:\n",
    "        # Procesar los datos\n",
    "        df_resultados = get_resultados(company)\n",
    "        if df_resultados is not None:\n",
    "            save_datos_anuales(df_resultados)\n",
    "        df_balance = get_balance_sheet(company)\n",
    "        if df_balance is not None:\n",
    "            save_datos_anuales(df_balance)\n",
    "        print(f\"{company} procesado con éxito!\")\n",
    "    except Exception as e:\n",
    "        print(f\"Error al procesar {company}: {e}\")\n",
    "        "
   ]
  },
  {
   "cell_type": "code",
   "execution_count": 4,
   "metadata": {},
   "outputs": [],
   "source": [
    "\n",
    "# Consultar datos\n",
    "conn = sqlite3.connect('webmining.db')\n",
    "cursor = conn.cursor()\n",
    "cursor.execute(\"SELECT * FROM datos_anuales WHERE company = '3m-co' AND informe = 'resultados'\")\n",
    "filas = cursor.fetchall()\n",
    "\n",
    "for fila in filas:\n",
    "    print(fila)"
   ]
  },
  {
   "cell_type": "code",
   "execution_count": 3,
   "metadata": {},
   "outputs": [
    {
     "data": {
      "text/plain": [
       "5309"
      ]
     },
     "execution_count": 3,
     "metadata": {},
     "output_type": "execute_result"
    }
   ],
   "source": [
    "conn = sqlite3.connect('webmining.db')\n",
    "cursor = conn.cursor()\n",
    "cursor.execute(\"SELECT COUNT(*) FROM datos_anuales\")\n",
    "numero_registros = cursor.fetchone()[0]\n",
    "numero_registros"
   ]
  },
  {
   "cell_type": "code",
   "execution_count": null,
   "metadata": {},
   "outputs": [],
   "source": [
    "companies = [\n",
    "  {\"apple-computer-inc\",\"AAPL\"},\n",
    "  {\"microsoft-corp\",\"MSFT\"},\n",
    "  {\"google-inc\",\"GOOGL\"},\n",
    "  {\"tesla-motors\",\"TSLA\"},\n",
    "  {\"visa-inc\",\"V\"},\n",
    "  {\"berkshire-hathaway-inc\",\"BRK.A\"},\n",
    "  {\"johnson-johnson\",\"JNJ\"},\n",
    "  {\"pfizer\",\"PFE\"},\n",
    "  {\"amazon-com-inc\",\"AMZN\"},\n",
    "  {\"disney\",\"DIS\"},\n",
    "  {\"nike\",\"NKE\"},\n",
    "  {\"procter-gamble\",\"PG\"},\n",
    "  {\"coca-cola-co\",\"KO\"},\n",
    "  {\"chevron\",\"CVX\"},\n",
    "  {\"3m-co\",\"MMM\"}\n",
    "]"
   ]
  }
 ],
 "metadata": {
  "kernelspec": {
   "display_name": "Python 3",
   "language": "python",
   "name": "python3"
  },
  "language_info": {
   "codemirror_mode": {
    "name": "ipython",
    "version": 3
   },
   "file_extension": ".py",
   "mimetype": "text/x-python",
   "name": "python",
   "nbconvert_exporter": "python",
   "pygments_lexer": "ipython3",
   "version": "3.12.6"
  }
 },
 "nbformat": 4,
 "nbformat_minor": 2
}
