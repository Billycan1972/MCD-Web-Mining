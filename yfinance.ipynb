{
 "cells": [
  {
   "cell_type": "code",
   "execution_count": 3,
   "metadata": {},
   "outputs": [],
   "source": [
    "import yfinance as yf\n",
    "import pandas as pd\n",
    "import sqlite3"
   ]
  },
  {
   "cell_type": "markdown",
   "metadata": {},
   "source": [
    "# 1. Calculo de Variacion: consultando API de YFinance"
   ]
  },
  {
   "cell_type": "code",
   "execution_count": 4,
   "metadata": {},
   "outputs": [],
   "source": [
    "# Lista de tuplas \n",
    "companies = [ \n",
    "  (\"apple-computer-inc\", \"AAPL\"),\n",
    "  (\"microsoft-corp\", \"MSFT\"),\n",
    "  (\"google-inc\", \"GOOGL\"),\n",
    "  (\"tesla-motors\", \"TSLA\"),\n",
    "  (\"visa-inc\", \"V\"),\n",
    "  (\"berkshire-hathaway-inc\", \"BRK-A\"),\n",
    "  # (\"johnson-johnson\", \"JNJ\"),\n",
    "  (\"YPF\", \"YPF\"),\n",
    "  (\"pfizer\", \"PFE\"),\n",
    "  (\"amazon-com-inc\", \"AMZN\"),\n",
    "  (\"disney\", \"DIS\"),\n",
    "  (\"nike\", \"NKE\"),\n",
    "  (\"procter-gamble\", \"PG\"),\n",
    "  (\"coca-cola-co\", \"KO\"),\n",
    "  (\"chevron\", \"CVX\"),\n",
    "  (\"3m-co\", \"MMM\")\n",
    "]\n",
    "\n",
    "# # Crear DataFrame\n",
    "# df = pd.DataFrame(companies, columns=[\"Empresa\", \"Ticker\"])\n",
    "\n",
    "# # Mostrar DataFrame\n",
    "# df.head()\n"
   ]
  },
  {
   "cell_type": "code",
   "execution_count": 5,
   "metadata": {},
   "outputs": [
    {
     "name": "stdout",
     "output_type": "stream",
     "text": [
      "YF.download() has changed argument auto_adjust default to True\n"
     ]
    },
    {
     "name": "stderr",
     "output_type": "stream",
     "text": [
      "[*********************100%***********************]  1 of 1 completed\n",
      "[*********************100%***********************]  1 of 1 completed\n",
      "[*********************100%***********************]  1 of 1 completed\n",
      "[*********************100%***********************]  1 of 1 completed\n",
      "[*********************100%***********************]  1 of 1 completed\n",
      "[*********************100%***********************]  1 of 1 completed\n",
      "[*********************100%***********************]  1 of 1 completed\n",
      "[*********************100%***********************]  1 of 1 completed\n",
      "[*********************100%***********************]  1 of 1 completed\n",
      "[*********************100%***********************]  1 of 1 completed\n",
      "[*********************100%***********************]  1 of 1 completed\n",
      "[*********************100%***********************]  1 of 1 completed\n",
      "[*********************100%***********************]  1 of 1 completed\n",
      "[*********************100%***********************]  1 of 1 completed\n",
      "[*********************100%***********************]  1 of 1 completed\n",
      "[*********************100%***********************]  1 of 1 completed\n",
      "[*********************100%***********************]  1 of 1 completed\n",
      "[*********************100%***********************]  1 of 1 completed\n",
      "[*********************100%***********************]  1 of 1 completed\n",
      "[*********************100%***********************]  1 of 1 completed\n",
      "[*********************100%***********************]  1 of 1 completed\n",
      "[*********************100%***********************]  1 of 1 completed\n",
      "[*********************100%***********************]  1 of 1 completed\n",
      "[*********************100%***********************]  1 of 1 completed\n",
      "[*********************100%***********************]  1 of 1 completed\n",
      "[*********************100%***********************]  1 of 1 completed\n",
      "[*********************100%***********************]  1 of 1 completed\n",
      "[*********************100%***********************]  1 of 1 completed\n",
      "[*********************100%***********************]  1 of 1 completed\n",
      "[*********************100%***********************]  1 of 1 completed\n",
      "[*********************100%***********************]  1 of 1 completed\n",
      "[*********************100%***********************]  1 of 1 completed\n",
      "[*********************100%***********************]  1 of 1 completed\n",
      "[*********************100%***********************]  1 of 1 completed\n",
      "[*********************100%***********************]  1 of 1 completed\n",
      "[*********************100%***********************]  1 of 1 completed\n",
      "[*********************100%***********************]  1 of 1 completed\n",
      "[*********************100%***********************]  1 of 1 completed\n",
      "[*********************100%***********************]  1 of 1 completed\n",
      "[*********************100%***********************]  1 of 1 completed\n",
      "[*********************100%***********************]  1 of 1 completed\n",
      "[*********************100%***********************]  1 of 1 completed\n",
      "[*********************100%***********************]  1 of 1 completed\n",
      "[*********************100%***********************]  1 of 1 completed\n",
      "[*********************100%***********************]  1 of 1 completed\n",
      "[*********************100%***********************]  1 of 1 completed\n",
      "[*********************100%***********************]  1 of 1 completed\n",
      "[*********************100%***********************]  1 of 1 completed\n",
      "[*********************100%***********************]  1 of 1 completed\n",
      "[*********************100%***********************]  1 of 1 completed\n",
      "[*********************100%***********************]  1 of 1 completed\n",
      "[*********************100%***********************]  1 of 1 completed\n",
      "[*********************100%***********************]  1 of 1 completed\n",
      "[*********************100%***********************]  1 of 1 completed\n",
      "[*********************100%***********************]  1 of 1 completed\n",
      "[*********************100%***********************]  1 of 1 completed\n",
      "[*********************100%***********************]  1 of 1 completed\n",
      "[*********************100%***********************]  1 of 1 completed\n",
      "[*********************100%***********************]  1 of 1 completed\n",
      "[*********************100%***********************]  1 of 1 completed\n",
      "[*********************100%***********************]  1 of 1 completed\n",
      "[*********************100%***********************]  1 of 1 completed\n",
      "[*********************100%***********************]  1 of 1 completed\n",
      "[*********************100%***********************]  1 of 1 completed\n",
      "[*********************100%***********************]  1 of 1 completed\n",
      "[*********************100%***********************]  1 of 1 completed\n",
      "[*********************100%***********************]  1 of 1 completed\n",
      "[*********************100%***********************]  1 of 1 completed\n",
      "[*********************100%***********************]  1 of 1 completed\n",
      "[*********************100%***********************]  1 of 1 completed\n",
      "[*********************100%***********************]  1 of 1 completed\n",
      "[*********************100%***********************]  1 of 1 completed\n",
      "[*********************100%***********************]  1 of 1 completed\n",
      "[*********************100%***********************]  1 of 1 completed\n",
      "[*********************100%***********************]  1 of 1 completed\n",
      "[*********************100%***********************]  1 of 1 completed\n",
      "[*********************100%***********************]  1 of 1 completed\n",
      "[*********************100%***********************]  1 of 1 completed\n",
      "[*********************100%***********************]  1 of 1 completed\n",
      "[*********************100%***********************]  1 of 1 completed\n",
      "[*********************100%***********************]  1 of 1 completed\n",
      "[*********************100%***********************]  1 of 1 completed\n",
      "[*********************100%***********************]  1 of 1 completed\n",
      "[*********************100%***********************]  1 of 1 completed\n",
      "[*********************100%***********************]  1 of 1 completed\n",
      "[*********************100%***********************]  1 of 1 completed\n",
      "[*********************100%***********************]  1 of 1 completed\n",
      "[*********************100%***********************]  1 of 1 completed\n",
      "[*********************100%***********************]  1 of 1 completed\n",
      "[*********************100%***********************]  1 of 1 completed\n",
      "[*********************100%***********************]  1 of 1 completed\n",
      "[*********************100%***********************]  1 of 1 completed\n",
      "[*********************100%***********************]  1 of 1 completed\n",
      "[*********************100%***********************]  1 of 1 completed\n",
      "[*********************100%***********************]  1 of 1 completed\n",
      "[*********************100%***********************]  1 of 1 completed\n",
      "[*********************100%***********************]  1 of 1 completed\n",
      "[*********************100%***********************]  1 of 1 completed\n",
      "[*********************100%***********************]  1 of 1 completed\n",
      "[*********************100%***********************]  1 of 1 completed\n",
      "[*********************100%***********************]  1 of 1 completed\n",
      "[*********************100%***********************]  1 of 1 completed\n",
      "[*********************100%***********************]  1 of 1 completed\n",
      "[*********************100%***********************]  1 of 1 completed\n",
      "[*********************100%***********************]  1 of 1 completed\n",
      "[*********************100%***********************]  1 of 1 completed\n",
      "[*********************100%***********************]  1 of 1 completed\n",
      "[*********************100%***********************]  1 of 1 completed\n",
      "[*********************100%***********************]  1 of 1 completed\n",
      "[*********************100%***********************]  1 of 1 completed\n",
      "[*********************100%***********************]  1 of 1 completed\n",
      "[*********************100%***********************]  1 of 1 completed\n",
      "[*********************100%***********************]  1 of 1 completed\n",
      "[*********************100%***********************]  1 of 1 completed\n",
      "[*********************100%***********************]  1 of 1 completed\n",
      "[*********************100%***********************]  1 of 1 completed\n",
      "[*********************100%***********************]  1 of 1 completed\n",
      "[*********************100%***********************]  1 of 1 completed\n",
      "[*********************100%***********************]  1 of 1 completed\n",
      "[*********************100%***********************]  1 of 1 completed\n",
      "[*********************100%***********************]  1 of 1 completed\n",
      "[*********************100%***********************]  1 of 1 completed\n",
      "[*********************100%***********************]  1 of 1 completed\n",
      "[*********************100%***********************]  1 of 1 completed\n",
      "[*********************100%***********************]  1 of 1 completed\n",
      "[*********************100%***********************]  1 of 1 completed\n",
      "[*********************100%***********************]  1 of 1 completed\n",
      "[*********************100%***********************]  1 of 1 completed\n",
      "[*********************100%***********************]  1 of 1 completed\n",
      "[*********************100%***********************]  1 of 1 completed\n",
      "[*********************100%***********************]  1 of 1 completed\n",
      "[*********************100%***********************]  1 of 1 completed\n",
      "[*********************100%***********************]  1 of 1 completed\n",
      "[*********************100%***********************]  1 of 1 completed\n",
      "[*********************100%***********************]  1 of 1 completed\n",
      "[*********************100%***********************]  1 of 1 completed\n",
      "[*********************100%***********************]  1 of 1 completed\n",
      "[*********************100%***********************]  1 of 1 completed\n",
      "[*********************100%***********************]  1 of 1 completed\n",
      "[*********************100%***********************]  1 of 1 completed\n",
      "[*********************100%***********************]  1 of 1 completed\n",
      "[*********************100%***********************]  1 of 1 completed\n",
      "[*********************100%***********************]  1 of 1 completed\n",
      "[*********************100%***********************]  1 of 1 completed\n",
      "[*********************100%***********************]  1 of 1 completed\n",
      "[*********************100%***********************]  1 of 1 completed\n",
      "[*********************100%***********************]  1 of 1 completed\n",
      "[*********************100%***********************]  1 of 1 completed\n",
      "[*********************100%***********************]  1 of 1 completed\n",
      "[*********************100%***********************]  1 of 1 completed\n"
     ]
    },
    {
     "data": {
      "application/vnd.microsoft.datawrangler.viewer.v0+json": {
       "columns": [
        {
         "name": "index",
         "rawType": "int64",
         "type": "integer"
        },
        {
         "name": "Empresa",
         "rawType": "object",
         "type": "string"
        },
        {
         "name": "Ticker",
         "rawType": "object",
         "type": "string"
        },
        {
         "name": "Ejercicio",
         "rawType": "int64",
         "type": "integer"
        },
        {
         "name": "Variacion",
         "rawType": "float64",
         "type": "float"
        }
       ],
       "conversionMethod": "pd.DataFrame",
       "ref": "b0fb5f3d-1865-4e08-887d-84462734b2e9",
       "rows": [
        [
         "0",
         "apple-computer-inc",
         "AAPL",
         "2020",
         "81.16829001155277"
        ],
        [
         "1",
         "apple-computer-inc",
         "AAPL",
         "2021",
         "39.4682109756487"
        ],
        [
         "2",
         "apple-computer-inc",
         "AAPL",
         "2022",
         "-28.376331018325995"
        ],
        [
         "3",
         "apple-computer-inc",
         "AAPL",
         "2023",
         "54.79822815057525"
        ],
        [
         "4",
         "apple-computer-inc",
         "AAPL",
         "2024",
         "38.354958595509416"
        ],
        [
         "5",
         "microsoft-corp",
         "MSFT",
         "2020",
         "41.03136574533666"
        ],
        [
         "6",
         "microsoft-corp",
         "MSFT",
         "2021",
         "58.39789192405092"
        ],
        [
         "7",
         "microsoft-corp",
         "MSFT",
         "2022",
         "-27.328361635927422"
        ],
        [
         "8",
         "microsoft-corp",
         "MSFT",
         "2023",
         "58.34974952470342"
        ],
        [
         "9",
         "microsoft-corp",
         "MSFT",
         "2024",
         "16.954590118710012"
        ]
       ],
       "shape": {
        "columns": 4,
        "rows": 10
       }
      },
      "text/html": [
       "<div>\n",
       "<style scoped>\n",
       "    .dataframe tbody tr th:only-of-type {\n",
       "        vertical-align: middle;\n",
       "    }\n",
       "\n",
       "    .dataframe tbody tr th {\n",
       "        vertical-align: top;\n",
       "    }\n",
       "\n",
       "    .dataframe thead th {\n",
       "        text-align: right;\n",
       "    }\n",
       "</style>\n",
       "<table border=\"1\" class=\"dataframe\">\n",
       "  <thead>\n",
       "    <tr style=\"text-align: right;\">\n",
       "      <th></th>\n",
       "      <th>Empresa</th>\n",
       "      <th>Ticker</th>\n",
       "      <th>Ejercicio</th>\n",
       "      <th>Variacion</th>\n",
       "    </tr>\n",
       "  </thead>\n",
       "  <tbody>\n",
       "    <tr>\n",
       "      <th>0</th>\n",
       "      <td>apple-computer-inc</td>\n",
       "      <td>AAPL</td>\n",
       "      <td>2020</td>\n",
<<<<<<< HEAD
       "      <td>81.168290</td>\n",
=======
       "      <td>81.168252</td>\n",
>>>>>>> 91c1986d3079e9e5aae47938ba782232b14c4e50
       "    </tr>\n",
       "    <tr>\n",
       "      <th>1</th>\n",
       "      <td>apple-computer-inc</td>\n",
       "      <td>AAPL</td>\n",
       "      <td>2021</td>\n",
<<<<<<< HEAD
       "      <td>39.468211</td>\n",
=======
       "      <td>39.468259</td>\n",
>>>>>>> 91c1986d3079e9e5aae47938ba782232b14c4e50
       "    </tr>\n",
       "    <tr>\n",
       "      <th>2</th>\n",
       "      <td>apple-computer-inc</td>\n",
       "      <td>AAPL</td>\n",
       "      <td>2022</td>\n",
<<<<<<< HEAD
       "      <td>-28.376331</td>\n",
=======
       "      <td>-28.376322</td>\n",
>>>>>>> 91c1986d3079e9e5aae47938ba782232b14c4e50
       "    </tr>\n",
       "    <tr>\n",
       "      <th>3</th>\n",
       "      <td>apple-computer-inc</td>\n",
       "      <td>AAPL</td>\n",
       "      <td>2023</td>\n",
<<<<<<< HEAD
       "      <td>54.798228</td>\n",
=======
       "      <td>54.798219</td>\n",
>>>>>>> 91c1986d3079e9e5aae47938ba782232b14c4e50
       "    </tr>\n",
       "    <tr>\n",
       "      <th>4</th>\n",
       "      <td>apple-computer-inc</td>\n",
       "      <td>AAPL</td>\n",
       "      <td>2024</td>\n",
       "      <td>38.354959</td>\n",
       "    </tr>\n",
       "    <tr>\n",
       "      <th>5</th>\n",
       "      <td>microsoft-corp</td>\n",
       "      <td>MSFT</td>\n",
       "      <td>2020</td>\n",
<<<<<<< HEAD
       "      <td>41.031366</td>\n",
=======
       "      <td>41.031334</td>\n",
>>>>>>> 91c1986d3079e9e5aae47938ba782232b14c4e50
       "    </tr>\n",
       "    <tr>\n",
       "      <th>6</th>\n",
       "      <td>microsoft-corp</td>\n",
       "      <td>MSFT</td>\n",
       "      <td>2021</td>\n",
       "      <td>58.397892</td>\n",
       "    </tr>\n",
       "    <tr>\n",
       "      <th>7</th>\n",
       "      <td>microsoft-corp</td>\n",
       "      <td>MSFT</td>\n",
       "      <td>2022</td>\n",
<<<<<<< HEAD
       "      <td>-27.328362</td>\n",
=======
       "      <td>-27.328360</td>\n",
>>>>>>> 91c1986d3079e9e5aae47938ba782232b14c4e50
       "    </tr>\n",
       "    <tr>\n",
       "      <th>8</th>\n",
       "      <td>microsoft-corp</td>\n",
       "      <td>MSFT</td>\n",
       "      <td>2023</td>\n",
       "      <td>58.349750</td>\n",
       "    </tr>\n",
       "    <tr>\n",
       "      <th>9</th>\n",
       "      <td>microsoft-corp</td>\n",
       "      <td>MSFT</td>\n",
       "      <td>2024</td>\n",
       "      <td>16.954580</td>\n",
       "    </tr>\n",
       "  </tbody>\n",
       "</table>\n",
       "</div>"
      ],
      "text/plain": [
       "              Empresa Ticker  Ejercicio  Variacion\n",
<<<<<<< HEAD
       "0  apple-computer-inc   AAPL       2020  81.168290\n",
       "1  apple-computer-inc   AAPL       2021  39.468211\n",
       "2  apple-computer-inc   AAPL       2022 -28.376331\n",
       "3  apple-computer-inc   AAPL       2023  54.798228\n",
       "4  apple-computer-inc   AAPL       2024  38.354959\n",
       "5      microsoft-corp   MSFT       2020  41.031366\n",
       "6      microsoft-corp   MSFT       2021  58.397892\n",
       "7      microsoft-corp   MSFT       2022 -27.328362\n",
       "8      microsoft-corp   MSFT       2023  58.349750\n",
       "9      microsoft-corp   MSFT       2024  16.954590"
=======
       "0  apple-computer-inc   AAPL       2020  81.168252\n",
       "1  apple-computer-inc   AAPL       2021  39.468259\n",
       "2  apple-computer-inc   AAPL       2022 -28.376322\n",
       "3  apple-computer-inc   AAPL       2023  54.798219\n",
       "4  apple-computer-inc   AAPL       2024  38.354959\n",
       "5      microsoft-corp   MSFT       2020  41.031334\n",
       "6      microsoft-corp   MSFT       2021  58.397892\n",
       "7      microsoft-corp   MSFT       2022 -27.328360\n",
       "8      microsoft-corp   MSFT       2023  58.349750\n",
       "9      microsoft-corp   MSFT       2024  16.954580"
>>>>>>> 91c1986d3079e9e5aae47938ba782232b14c4e50
      ]
     },
     "execution_count": 5,
     "metadata": {},
     "output_type": "execute_result"
    }
   ],
   "source": [
    "# Función para calcular la variación de precios\n",
    "def calcular_variacion_anual(ticker, year):\n",
    "    try:\n",
    "        # Descargar datos históricos\n",
    "        data_inicio = yf.download(ticker, start=f'{year}-01-01', end=f'{year}-01-05')\n",
    "        data_fin = yf.download(ticker, start=f'{year}-12-27', end=f'{year}-12-30')\n",
    "\n",
    "        # Verificar que los datos no estén vacíos\n",
    "        if data_inicio.empty or data_fin.empty:\n",
    "            return None  # Evita errores si no hay datos\n",
    "        \n",
    "        # Precio de cierre en las fechas deseadas\n",
    "        precio_inicial = data_inicio.iloc[0]['Close'].item()\n",
    "        precio_final = data_fin.iloc[-1]['Close'].item()\n",
    "\n",
    "        # Calcular variación\n",
    "        variacion = ((precio_final / precio_inicial) - 1) * 100\n",
    "        return variacion\n",
    "\n",
    "    except Exception as e:\n",
    "        print(f\"Error con {ticker}: {e}\")\n",
    "        return None  # En caso de error, asignar None\n",
    "\n",
    "# Años a analizar\n",
    "years = [2020, 2021, 2022, 2023, 2024]\n",
    "\n",
    "# Crear una lista para almacenar los resultados\n",
    "data = []\n",
    "\n",
    "# Iterar sobre cada empresa y año para calcular la variación\n",
    "for company_name, ticker in companies:\n",
    "    for year in years:\n",
    "        variacion = calcular_variacion_anual(ticker, year)\n",
    "        data.append([company_name, ticker, year, variacion])\n",
    "\n",
    "# Crear DataFrame\n",
    "df = pd.DataFrame(data, columns=[\"Empresa\", \"Ticker\", \"Ejercicio\", \"Variacion\"])\n",
    "\n",
    "# Mostrar resultado\n",
    "df.head(10)"
   ]
  },
  {
   "cell_type": "code",
   "execution_count": 6,
   "metadata": {},
   "outputs": [],
   "source": [
    "def save_datos_variacion(df):\n",
    "    # Conectar a la base de datos (o crearla si no existe)\n",
    "    conn = sqlite3.connect('webmining.db')\n",
    "    cursor = conn.cursor()\n",
    "    cursor.execute('''\n",
    "    CREATE TABLE IF NOT EXISTS datos_variacion (\n",
    "        id INTEGER PRIMARY KEY AUTOINCREMENT,\n",
    "        company TEXT NOT NULL,\n",
    "        ticker TEXT NOT NULL,\n",
    "        ejercicio INTEGER NOT NULL,\n",
    "        variacion REAL\n",
    "    )\n",
    "    ''')\n",
    "    \n",
    "    cursor.execute('''\n",
    "    DELETE FROM datos_variacion \n",
    "    \n",
    "    ''')\n",
    "    \n",
    "    df.rename(columns={'Empresa': 'company', 'Ticker': 'ticker', 'Ejercicio' : 'ejercicio', 'Variacion' : 'variacion'}, inplace=True)\n",
    "\n",
    "    df.to_sql('datos_variacion', conn, if_exists='append', index=False)\n",
    "    conn.commit()\n",
    "    # Cerrar la conexión\n",
    "    conn.close()    \n",
    "    \n",
    "save_datos_variacion(df)    "
   ]
  },
  {
   "cell_type": "code",
   "execution_count": 7,
   "metadata": {},
   "outputs": [
    {
     "data": {
      "application/vnd.microsoft.datawrangler.viewer.v0+json": {
       "columns": [
        {
         "name": "index",
         "rawType": "int64",
         "type": "integer"
        },
        {
         "name": "company",
         "rawType": "object",
         "type": "string"
        },
        {
         "name": "ticker",
         "rawType": "object",
         "type": "string"
        },
        {
         "name": "ejercicio",
         "rawType": "int64",
         "type": "integer"
        },
        {
         "name": "variacion",
         "rawType": "float64",
         "type": "float"
        }
       ],
       "conversionMethod": "pd.DataFrame",
       "ref": "315ed123-74ec-4e4d-9f9d-bccc1d1fe579",
       "rows": [
        [
         "0",
         "apple-computer-inc",
         "AAPL",
         "2020",
         "81.16829001155277"
        ]
       ],
       "shape": {
        "columns": 4,
        "rows": 1
       }
      },
      "text/html": [
       "<div>\n",
       "<style scoped>\n",
       "    .dataframe tbody tr th:only-of-type {\n",
       "        vertical-align: middle;\n",
       "    }\n",
       "\n",
       "    .dataframe tbody tr th {\n",
       "        vertical-align: top;\n",
       "    }\n",
       "\n",
       "    .dataframe thead th {\n",
       "        text-align: right;\n",
       "    }\n",
       "</style>\n",
       "<table border=\"1\" class=\"dataframe\">\n",
       "  <thead>\n",
       "    <tr style=\"text-align: right;\">\n",
       "      <th></th>\n",
       "      <th>company</th>\n",
       "      <th>ticker</th>\n",
       "      <th>ejercicio</th>\n",
       "      <th>variacion</th>\n",
       "    </tr>\n",
       "  </thead>\n",
       "  <tbody>\n",
       "    <tr>\n",
       "      <th>0</th>\n",
       "      <td>apple-computer-inc</td>\n",
       "      <td>AAPL</td>\n",
       "      <td>2020</td>\n",
       "      <td>81.16829</td>\n",
       "    </tr>\n",
       "  </tbody>\n",
       "</table>\n",
       "</div>"
      ],
      "text/plain": [
       "              company ticker  ejercicio  variacion\n",
       "0  apple-computer-inc   AAPL       2020   81.16829"
      ]
     },
     "execution_count": 7,
     "metadata": {},
     "output_type": "execute_result"
    }
   ],
   "source": [
    "df.head(1)"
   ]
  },
  {
   "cell_type": "markdown",
   "metadata": {},
   "source": [
    "Borrar Tabla"
   ]
  },
  {
   "cell_type": "code",
   "execution_count": 8,
   "metadata": {},
   "outputs": [],
   "source": [
    "# conn = sqlite3.connect('webmining.db')\n",
    "# cursor = conn.cursor()\n",
    "# # cursor.execute('''\n",
    "# # DROP TABLE  datos_variacion \n",
    "# # ''')\n",
    "# conn.commit()\n",
    "#     # Cerrar la conexión\n",
    "# conn.close()   "
   ]
  },
  {
   "cell_type": "markdown",
   "metadata": {},
   "source": [
    "Consultar Tabla"
   ]
  },
  {
   "cell_type": "code",
<<<<<<< HEAD
   "execution_count": 9,
=======
   "execution_count": 7,
>>>>>>> 91c1986d3079e9e5aae47938ba782232b14c4e50
   "metadata": {},
   "outputs": [
    {
     "name": "stdout",
     "output_type": "stream",
     "text": [
<<<<<<< HEAD
      "(76, 'apple-computer-inc', 'AAPL', 2020, 81.16829001155277)\n",
      "(77, 'apple-computer-inc', 'AAPL', 2021, 39.4682109756487)\n",
      "(78, 'apple-computer-inc', 'AAPL', 2022, -28.376331018325995)\n",
      "(79, 'apple-computer-inc', 'AAPL', 2023, 54.79822815057525)\n",
      "(80, 'apple-computer-inc', 'AAPL', 2024, 38.354958595509416)\n",
      "(81, 'microsoft-corp', 'MSFT', 2020, 41.03136574533666)\n",
      "(82, 'microsoft-corp', 'MSFT', 2021, 58.39789192405092)\n",
      "(83, 'microsoft-corp', 'MSFT', 2022, -27.328361635927422)\n",
      "(84, 'microsoft-corp', 'MSFT', 2023, 58.34974952470342)\n",
      "(85, 'microsoft-corp', 'MSFT', 2024, 16.954590118710012)\n",
      "(86, 'google-inc', 'GOOGL', 2020, 28.427392050341993)\n",
      "(87, 'google-inc', 'GOOGL', 2021, 69.9234714270234)\n",
      "(88, 'google-inc', 'GOOGL', 2022, -38.996425908987575)\n",
      "(89, 'google-inc', 'GOOGL', 2023, 56.743711870640844)\n",
=======
      "(76, 'apple-computer-inc', 'AAPL', 2020, 81.16825199508595)\n",
      "(77, 'apple-computer-inc', 'AAPL', 2021, 39.46825926095596)\n",
      "(78, 'apple-computer-inc', 'AAPL', 2022, -28.376322488139415)\n",
      "(79, 'apple-computer-inc', 'AAPL', 2023, 54.79821859793823)\n",
      "(80, 'apple-computer-inc', 'AAPL', 2024, 38.354958595509416)\n",
      "(81, 'microsoft-corp', 'MSFT', 2020, 41.03133359089206)\n",
      "(82, 'microsoft-corp', 'MSFT', 2021, 58.39789192405092)\n",
      "(83, 'microsoft-corp', 'MSFT', 2022, -27.32835951120478)\n",
      "(84, 'microsoft-corp', 'MSFT', 2023, 58.34974952470342)\n",
      "(85, 'microsoft-corp', 'MSFT', 2024, 16.954580403524467)\n",
      "(86, 'google-inc', 'GOOGL', 2020, 28.427380848497187)\n",
      "(87, 'google-inc', 'GOOGL', 2021, 69.9234536627307)\n",
      "(88, 'google-inc', 'GOOGL', 2022, -38.99641945832636)\n",
      "(89, 'google-inc', 'GOOGL', 2023, 56.743725353327214)\n",
>>>>>>> 91c1986d3079e9e5aae47938ba782232b14c4e50
      "(90, 'google-inc', 'GOOGL', 2024, 40.01503325058091)\n",
      "(91, 'tesla-motors', 'TSLA', 2020, 673.9390373235624)\n",
      "(92, 'tesla-motors', 'TSLA', 2021, 48.84004077513402)\n",
      "(93, 'tesla-motors', 'TSLA', 2022, -69.53941560483538)\n",
      "(94, 'tesla-motors', 'TSLA', 2023, 129.8612388852389)\n",
      "(95, 'tesla-motors', 'TSLA', 2024, 73.76217971330405)\n",
<<<<<<< HEAD
      "(96, 'visa-inc', 'V', 2020, 12.855539387247262)\n",
      "(97, 'visa-inc', 'V', 2021, 0.8037081056345929)\n",
      "(98, 'visa-inc', 'V', 2022, -5.327237785352668)\n",
      "(99, 'visa-inc', 'V', 2023, 26.533369861209046)\n",
      "(100, 'visa-inc', 'V', 2024, 24.037441439743446)\n",
=======
      "(96, 'visa-inc', 'V', 2020, 12.855540452307078)\n",
      "(97, 'visa-inc', 'V', 2021, 0.8037298441516461)\n",
      "(98, 'visa-inc', 'V', 2022, -5.327251160044422)\n",
      "(99, 'visa-inc', 'V', 2023, 26.533320977731336)\n",
      "(100, 'visa-inc', 'V', 2024, 24.037456198791006)\n",
>>>>>>> 91c1986d3079e9e5aae47938ba782232b14c4e50
      "(101, 'berkshire-hathaway-inc', 'BRK-A', 2020, 0.7476750199409299)\n",
      "(102, 'berkshire-hathaway-inc', 'BRK-A', 2021, 31.606724401426376)\n",
      "(103, 'berkshire-hathaway-inc', 'BRK-A', 2022, 3.1752146158925854)\n",
      "(104, 'berkshire-hathaway-inc', 'BRK-A', 2023, 15.568926042276775)\n",
      "(105, 'berkshire-hathaway-inc', 'BRK-A', 2024, 24.57715442525923)\n",
      "(106, 'YPF', 'YPF', 2020, -56.21669868448846)\n",
      "(107, 'YPF', 'YPF', 2021, -11.725663133324405)\n",
      "(108, 'YPF', 'YPF', 2022, 124.0099078264322)\n",
      "(109, 'YPF', 'YPF', 2023, 97.3593623280252)\n",
      "(110, 'YPF', 'YPF', 2024, 158.11136929847672)\n",
<<<<<<< HEAD
      "(111, 'pfizer', 'PFE', 2020, 3.847527475548085)\n",
      "(112, 'pfizer', 'PFE', 2021, 62.54537549230701)\n",
      "(113, 'pfizer', 'PFE', 2022, -6.448355883861623)\n",
      "(114, 'pfizer', 'PFE', 2023, -41.28702479084323)\n",
      "(115, 'pfizer', 'PFE', 2024, -4.987516503142708)\n",
=======
      "(111, 'pfizer', 'PFE', 2020, 3.8475001118903007)\n",
      "(112, 'pfizer', 'PFE', 2021, 62.545367650829235)\n",
      "(113, 'pfizer', 'PFE', 2022, -6.448363218036846)\n",
      "(114, 'pfizer', 'PFE', 2023, -41.28702059507858)\n",
      "(115, 'pfizer', 'PFE', 2024, -4.987509928010381)\n",
>>>>>>> 91c1986d3079e9e5aae47938ba782232b14c4e50
      "(116, 'amazon-com-inc', 'AMZN', 2020, 75.02543252169542)\n",
      "(117, 'amazon-com-inc', 'AMZN', 2021, 6.194322534998009)\n",
      "(118, 'amazon-com-inc', 'AMZN', 2022, -50.59989457027987)\n",
      "(119, 'amazon-com-inc', 'AMZN', 2023, 77.04498133500893)\n",
      "(120, 'amazon-com-inc', 'AMZN', 2024, 49.236317568461516)\n",
      "(121, 'disney', 'DIS', 2020, 19.635633628190362)\n",
      "(122, 'disney', 'DIS', 2021, -12.837683462669336)\n",
<<<<<<< HEAD
      "(123, 'disney', 'DIS', 2022, -44.38632495005448)\n",
      "(124, 'disney', 'DIS', 2023, 1.8143837235537585)\n",
      "(125, 'disney', 'DIS', 2024, 24.08907578387387)\n",
      "(126, 'nike', 'NKE', 2020, 39.84257550260566)\n",
      "(127, 'nike', 'NKE', 2021, 21.376981331828947)\n",
      "(128, 'nike', 'NKE', 2022, -27.970598090660413)\n",
      "(129, 'nike', 'NKE', 2023, -7.390852439954099)\n",
      "(130, 'nike', 'NKE', 2024, -27.047497729494207)\n",
      "(131, 'procter-gamble', 'PG', 2020, 14.932935908152722)\n",
      "(132, 'procter-gamble', 'PG', 2021, 22.1301055429171)\n",
      "(133, 'procter-gamble', 'PG', 2022, -4.003616565314472)\n",
      "(134, 'procter-gamble', 'PG', 2023, -0.8642258891812693)\n",
      "(135, 'procter-gamble', 'PG', 2024, 16.81491315293968)\n",
      "(136, 'coca-cola-co', 'KO', 2020, 1.804626718234581)\n",
      "(137, 'coca-cola-co', 'KO', 2021, 15.254871179810458)\n",
      "(138, 'coca-cola-co', 'KO', 2022, 11.032014814259995)\n",
      "(139, 'coca-cola-co', 'KO', 2023, -3.432582622854663)\n",
      "(140, 'coca-cola-co', 'KO', 2024, 7.584962889042091)\n",
      "(141, 'chevron', 'CVX', 2020, -26.37390267455313)\n",
      "(142, 'chevron', 'CVX', 2021, 46.53788403104646)\n",
      "(143, 'chevron', 'CVX', 2022, 54.90811772090103)\n",
      "(144, 'chevron', 'CVX', 2023, -10.902560098786918)\n",
      "(145, 'chevron', 'CVX', 2024, 0.48413726459539674)\n",
      "(146, '3m-co', 'MMM', 2020, 0.17963999795231889)\n",
      "(147, '3m-co', 'MMM', 2021, 7.100159984043786)\n",
      "(148, '3m-co', 'MMM', 2022, -29.28869132510934)\n",
      "(149, '3m-co', 'MMM', 2023, -5.340939645945153)\n",
      "(150, '3m-co', 'MMM', 2024, 46.44731192663558)\n"
=======
      "(123, 'disney', 'DIS', 2022, -44.38631946982561)\n",
      "(124, 'disney', 'DIS', 2023, 1.8143837235537585)\n",
      "(125, 'disney', 'DIS', 2024, 24.08907578387387)\n",
      "(126, 'nike', 'NKE', 2020, 39.842667639182515)\n",
      "(127, 'nike', 'NKE', 2021, 21.376939511163595)\n",
      "(128, 'nike', 'NKE', 2022, -27.970614774894443)\n",
      "(129, 'nike', 'NKE', 2023, -7.39086476240608)\n",
      "(130, 'nike', 'NKE', 2024, -27.047497729494207)\n",
      "(131, 'procter-gamble', 'PG', 2020, 14.932934857337488)\n",
      "(132, 'procter-gamble', 'PG', 2021, 22.13012807323431)\n",
      "(133, 'procter-gamble', 'PG', 2022, -4.003616565314472)\n",
      "(134, 'procter-gamble', 'PG', 2023, -0.8642153369456285)\n",
      "(135, 'procter-gamble', 'PG', 2024, 16.814925509861588)\n",
      "(136, 'coca-cola-co', 'KO', 2020, 1.8046431851386657)\n",
      "(137, 'coca-cola-co', 'KO', 2021, 15.254876894208058)\n",
      "(138, 'coca-cola-co', 'KO', 2022, 11.032007721481918)\n",
      "(139, 'coca-cola-co', 'KO', 2023, -3.4325700893185984)\n",
      "(140, 'coca-cola-co', 'KO', 2024, 7.5849700114019925)\n",
      "(141, 'chevron', 'CVX', 2020, -26.3738788720435)\n",
      "(142, 'chevron', 'CVX', 2021, 46.53786324918801)\n",
      "(143, 'chevron', 'CVX', 2022, 54.90811772090103)\n",
      "(144, 'chevron', 'CVX', 2023, -10.902559050765948)\n",
      "(145, 'chevron', 'CVX', 2024, 0.4841264466923123)\n",
      "(146, '3m-co', 'MMM', 2020, 0.17964619968258155)\n",
      "(147, '3m-co', 'MMM', 2021, 7.100178424600179)\n",
      "(148, '3m-co', 'MMM', 2022, -29.288693769306885)\n",
      "(149, '3m-co', 'MMM', 2023, -5.340939645945153)\n",
      "(150, '3m-co', 'MMM', 2024, 46.44728666418034)\n"
>>>>>>> 91c1986d3079e9e5aae47938ba782232b14c4e50
     ]
    }
   ],
   "source": [
    "import sqlite3\n",
    "\n",
    "# Conectar a la base de datos\n",
    "conn = sqlite3.connect('webmining.db')\n",
    "cursor = conn.cursor()\n",
    "\n",
    "# Ejecutar el SELECT\n",
    "cursor.execute('SELECT * FROM datos_variacion')\n",
    "\n",
    "# Obtener todos los resultados\n",
    "resultados = cursor.fetchall()\n",
    "\n",
    "# Mostrar los resultados\n",
    "for fila in resultados:\n",
    "    print(fila)\n",
    "\n",
    "# Cerrar la conexión\n",
    "conn.close()\n"
   ]
  },
  {
   "cell_type": "markdown",
   "metadata": {},
   "source": [
    "# 2. Busqueda de sector de empresa usando API de YFinance"
   ]
  },
  {
   "cell_type": "code",
<<<<<<< HEAD
   "execution_count": 10,
=======
   "execution_count": 8,
>>>>>>> 91c1986d3079e9e5aae47938ba782232b14c4e50
   "metadata": {},
   "outputs": [],
   "source": [
    "# Lista de tuplas \n",
    "companies = [ \n",
    "  (\"apple-computer-inc\", \"AAPL\"),\n",
    "  (\"microsoft-corp\", \"MSFT\"),\n",
    "  (\"google-inc\", \"GOOGL\"),\n",
    "  (\"tesla-motors\", \"TSLA\"),\n",
    "  (\"visa-inc\", \"V\"),\n",
    "  (\"berkshire-hathaway-inc\", \"BRK-A\"),\n",
    "  (\"YPF\", \"YPF\"),\n",
    "  (\"pfizer\", \"PFE\"),\n",
    "  (\"amazon-com-inc\", \"AMZN\"),\n",
    "  (\"disney\", \"DIS\"),\n",
    "  (\"nike\", \"NKE\"),\n",
    "  (\"procter-gamble\", \"PG\"),\n",
    "  (\"coca-cola-co\", \"KO\"),\n",
    "  (\"chevron\", \"CVX\"),\n",
    "  (\"3m-co\", \"MMM\")\n",
    "]"
   ]
  },
  {
   "cell_type": "code",
<<<<<<< HEAD
   "execution_count": 11,
=======
   "execution_count": 9,
>>>>>>> 91c1986d3079e9e5aae47938ba782232b14c4e50
   "metadata": {},
   "outputs": [
    {
     "data": {
      "application/vnd.microsoft.datawrangler.viewer.v0+json": {
       "columns": [
        {
         "name": "index",
         "rawType": "int64",
         "type": "integer"
        },
        {
         "name": "Empresa",
         "rawType": "object",
         "type": "string"
        },
        {
         "name": "Ticker",
         "rawType": "object",
         "type": "string"
        },
        {
         "name": "Sector",
         "rawType": "object",
         "type": "string"
        }
       ],
       "conversionMethod": "pd.DataFrame",
       "ref": "8e7def6e-95a8-4eff-8c70-a4a39022b051",
       "rows": [
        [
         "0",
         "apple-computer-inc",
         "AAPL",
         "Technology"
        ],
        [
         "1",
         "microsoft-corp",
         "MSFT",
         "Technology"
        ],
        [
         "2",
         "google-inc",
         "GOOGL",
         "Communication Services"
        ],
        [
         "3",
         "tesla-motors",
         "TSLA",
         "Consumer Cyclical"
        ],
        [
         "4",
         "visa-inc",
         "V",
         "Financial Services"
        ],
        [
         "5",
         "berkshire-hathaway-inc",
         "BRK-A",
         "Financial Services"
        ],
        [
         "6",
         "YPF",
         "YPF",
         "Energy"
        ],
        [
         "7",
         "pfizer",
         "PFE",
         "Healthcare"
        ],
        [
         "8",
         "amazon-com-inc",
         "AMZN",
         "Consumer Cyclical"
        ],
        [
         "9",
         "disney",
         "DIS",
         "Communication Services"
        ]
       ],
       "shape": {
        "columns": 3,
        "rows": 10
       }
      },
      "text/html": [
       "<div>\n",
       "<style scoped>\n",
       "    .dataframe tbody tr th:only-of-type {\n",
       "        vertical-align: middle;\n",
       "    }\n",
       "\n",
       "    .dataframe tbody tr th {\n",
       "        vertical-align: top;\n",
       "    }\n",
       "\n",
       "    .dataframe thead th {\n",
       "        text-align: right;\n",
       "    }\n",
       "</style>\n",
       "<table border=\"1\" class=\"dataframe\">\n",
       "  <thead>\n",
       "    <tr style=\"text-align: right;\">\n",
       "      <th></th>\n",
       "      <th>Empresa</th>\n",
       "      <th>Ticker</th>\n",
       "      <th>Sector</th>\n",
       "    </tr>\n",
       "  </thead>\n",
       "  <tbody>\n",
       "    <tr>\n",
       "      <th>0</th>\n",
       "      <td>apple-computer-inc</td>\n",
       "      <td>AAPL</td>\n",
       "      <td>Technology</td>\n",
       "    </tr>\n",
       "    <tr>\n",
       "      <th>1</th>\n",
       "      <td>microsoft-corp</td>\n",
       "      <td>MSFT</td>\n",
       "      <td>Technology</td>\n",
       "    </tr>\n",
       "    <tr>\n",
       "      <th>2</th>\n",
       "      <td>google-inc</td>\n",
       "      <td>GOOGL</td>\n",
       "      <td>Communication Services</td>\n",
       "    </tr>\n",
       "    <tr>\n",
       "      <th>3</th>\n",
       "      <td>tesla-motors</td>\n",
       "      <td>TSLA</td>\n",
       "      <td>Consumer Cyclical</td>\n",
       "    </tr>\n",
       "    <tr>\n",
       "      <th>4</th>\n",
       "      <td>visa-inc</td>\n",
       "      <td>V</td>\n",
       "      <td>Financial Services</td>\n",
       "    </tr>\n",
       "    <tr>\n",
       "      <th>5</th>\n",
       "      <td>berkshire-hathaway-inc</td>\n",
       "      <td>BRK-A</td>\n",
       "      <td>Financial Services</td>\n",
       "    </tr>\n",
       "    <tr>\n",
       "      <th>6</th>\n",
       "      <td>YPF</td>\n",
       "      <td>YPF</td>\n",
       "      <td>Energy</td>\n",
       "    </tr>\n",
       "    <tr>\n",
       "      <th>7</th>\n",
       "      <td>pfizer</td>\n",
       "      <td>PFE</td>\n",
       "      <td>Healthcare</td>\n",
       "    </tr>\n",
       "    <tr>\n",
       "      <th>8</th>\n",
       "      <td>amazon-com-inc</td>\n",
       "      <td>AMZN</td>\n",
       "      <td>Consumer Cyclical</td>\n",
       "    </tr>\n",
       "    <tr>\n",
       "      <th>9</th>\n",
       "      <td>disney</td>\n",
       "      <td>DIS</td>\n",
       "      <td>Communication Services</td>\n",
       "    </tr>\n",
       "  </tbody>\n",
       "</table>\n",
       "</div>"
      ],
      "text/plain": [
       "                  Empresa Ticker                  Sector\n",
       "0      apple-computer-inc   AAPL              Technology\n",
       "1          microsoft-corp   MSFT              Technology\n",
       "2              google-inc  GOOGL  Communication Services\n",
       "3            tesla-motors   TSLA       Consumer Cyclical\n",
       "4                visa-inc      V      Financial Services\n",
       "5  berkshire-hathaway-inc  BRK-A      Financial Services\n",
       "6                     YPF    YPF                  Energy\n",
       "7                  pfizer    PFE              Healthcare\n",
       "8          amazon-com-inc   AMZN       Consumer Cyclical\n",
       "9                  disney    DIS  Communication Services"
      ]
     },
<<<<<<< HEAD
     "execution_count": 11,
=======
     "execution_count": 9,
>>>>>>> 91c1986d3079e9e5aae47938ba782232b14c4e50
     "metadata": {},
     "output_type": "execute_result"
    }
   ],
   "source": [
    "# Función para calcular la variación de precios\n",
    "def buscar_sector(ticker):\n",
    "    try:\n",
    "        return yf.Ticker(ticker).info[\"sector\"]\n",
    "    except Exception as e:\n",
    "        print(f\"Error con {ticker}: {e}\")\n",
    "        return None  # En caso de error, asignar None\n",
    "\n",
    "\n",
    "\n",
    "# Crear una lista para almacenar los resultados\n",
    "data = []\n",
    "\n",
    "# Iterar sobre cada empresa y año para calcular la variación\n",
    "for company_name, ticker in companies:\n",
    "    sector = buscar_sector(ticker)\n",
    "    data.append([company_name, ticker, sector])\n",
    "\n",
    "# Crear DataFrame\n",
    "df = pd.DataFrame(data, columns=[\"Empresa\", \"Ticker\", \"Sector\"])\n",
    "\n",
    "# Mostrar resultado\n",
    "df.head(10)"
   ]
  },
  {
   "cell_type": "code",
<<<<<<< HEAD
   "execution_count": 12,
=======
   "execution_count": 10,
>>>>>>> 91c1986d3079e9e5aae47938ba782232b14c4e50
   "metadata": {},
   "outputs": [],
   "source": [
    "def save_datos_variacion(df):\n",
    "    # Conectar a la base de datos (o crearla si no existe)\n",
    "    conn = sqlite3.connect('webmining.db')\n",
    "    cursor = conn.cursor()\n",
    "    cursor.execute('''\n",
    "    CREATE TABLE IF NOT EXISTS datos_sector (\n",
    "        id INTEGER PRIMARY KEY AUTOINCREMENT,\n",
    "        company TEXT NOT NULL,\n",
    "        ticker TEXT NOT NULL,\n",
    "        sector TEXT NULL\n",
    "    )\n",
    "    ''')\n",
    "    \n",
    "    cursor.execute('''\n",
    "    DELETE FROM datos_sector \n",
    "    ''')\n",
    "    \n",
    "    df.rename(columns={'Empresa': 'company', 'Ticker': 'ticker', 'Sector' : 'sector'}, inplace=True)\n",
    "\n",
    "    df.to_sql('datos_sector', conn, if_exists='append', index=False)\n",
    "    conn.commit()\n",
    "    # Cerrar la conexión\n",
    "    conn.close()    \n",
    "    \n",
    "save_datos_variacion(df)    "
   ]
  },
  {
   "cell_type": "markdown",
   "metadata": {},
   "source": [
    "Consultar tabla"
   ]
  },
  {
   "cell_type": "code",
<<<<<<< HEAD
   "execution_count": 13,
=======
   "execution_count": 11,
>>>>>>> 91c1986d3079e9e5aae47938ba782232b14c4e50
   "metadata": {},
   "outputs": [
    {
     "name": "stdout",
     "output_type": "stream",
     "text": [
      "(31, 'apple-computer-inc', 'AAPL', 'Technology')\n",
      "(32, 'microsoft-corp', 'MSFT', 'Technology')\n",
      "(33, 'google-inc', 'GOOGL', 'Communication Services')\n",
      "(34, 'tesla-motors', 'TSLA', 'Consumer Cyclical')\n",
      "(35, 'visa-inc', 'V', 'Financial Services')\n",
      "(36, 'berkshire-hathaway-inc', 'BRK-A', 'Financial Services')\n",
      "(37, 'YPF', 'YPF', 'Energy')\n",
      "(38, 'pfizer', 'PFE', 'Healthcare')\n",
      "(39, 'amazon-com-inc', 'AMZN', 'Consumer Cyclical')\n",
      "(40, 'disney', 'DIS', 'Communication Services')\n",
      "(41, 'nike', 'NKE', 'Consumer Cyclical')\n",
      "(42, 'procter-gamble', 'PG', 'Consumer Defensive')\n",
      "(43, 'coca-cola-co', 'KO', 'Consumer Defensive')\n",
      "(44, 'chevron', 'CVX', 'Energy')\n",
      "(45, '3m-co', 'MMM', 'Industrials')\n"
     ]
    }
   ],
   "source": [
    "# Conectar a la base de datos\n",
    "conn = sqlite3.connect('webmining.db')\n",
    "cursor = conn.cursor()\n",
    "\n",
    "# Ejecutar el SELECT\n",
    "cursor.execute('SELECT * FROM datos_sector')\n",
    "\n",
    "# Obtener todos los resultados\n",
    "resultados = cursor.fetchall()\n",
    "\n",
    "# Mostrar los resultados\n",
    "for fila in resultados:\n",
    "    print(fila)\n",
    "\n",
    "# Cerrar la conexión\n",
    "conn.close()"
   ]
  }
 ],
 "metadata": {
  "kernelspec": {
   "display_name": "ldi2",
   "language": "python",
   "name": "python3"
  },
  "language_info": {
   "codemirror_mode": {
    "name": "ipython",
    "version": 3
   },
   "file_extension": ".py",
   "mimetype": "text/x-python",
   "name": "python",
   "nbconvert_exporter": "python",
   "pygments_lexer": "ipython3",
<<<<<<< HEAD
   "version": "3.12.6"
=======
   "version": "3.11.9"
>>>>>>> 91c1986d3079e9e5aae47938ba782232b14c4e50
  }
 },
 "nbformat": 4,
 "nbformat_minor": 2
}
